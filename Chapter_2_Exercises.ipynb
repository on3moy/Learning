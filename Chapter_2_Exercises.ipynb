{
 "metadata": {
  "language_info": {
   "codemirror_mode": {
    "name": "ipython",
    "version": 3
   },
   "file_extension": ".py",
   "mimetype": "text/x-python",
   "name": "python",
   "nbconvert_exporter": "python",
   "pygments_lexer": "ipython3",
   "version": "3.8.5-final"
  },
  "orig_nbformat": 2,
  "kernelspec": {
   "name": "Python 3.8.5 64-bit",
   "display_name": "Python 3.8.5 64-bit",
   "metadata": {
    "interpreter": {
     "hash": "1baa965d5efe3ac65b79dfc60c0d706280b1da80fedb7760faf2759126c4f253"
    }
   }
  }
 },
 "nbformat": 4,
 "nbformat_minor": 2,
 "cells": [
  {
   "source": [
    "# Chapter 2 Exercises\n",
    "***\n",
    "### Book Exercise\n",
    "<img src ='https://media4.giphy.com/media/dNgK7Ws7y176U/giphy.gif' title='Dont Hover Over Me!'/>"
   ],
   "cell_type": "markdown",
   "metadata": {}
  },
  {
   "source": [
    "# Exercise 2.1 (What does this code do?)\n",
    "*** \n",
    "## Create the variables x = 2 and y = 3, then determine what each of the following statement displays:\n",
    "<code>\n",
    "a. print('x =', x)\n",
    "b. print('Value of', x, '+', x, 'is', (x + x))\n",
    "c. print('x= ')\n",
    "d. print((x + y), 'x = ', (y + x))\n",
    "</code>"
   ],
   "cell_type": "markdown",
   "metadata": {
    "tags": []
   }
  },
  {
   "cell_type": "code",
   "execution_count": 21,
   "metadata": {
    "tags": []
   },
   "outputs": [
    {
     "output_type": "stream",
     "name": "stdout",
     "text": "x = 2\nValue of 2 + 2 is 4\nx = \n5 x = 5\n"
    }
   ],
   "source": [
    "# Assign variables\n",
    "x = 2\n",
    "y = 3\n",
    "\n",
    "print('x =', x)\n",
    "print('Value of', x, '+', x, 'is', (x + x))\n",
    "print('x = ')\n",
    "print((x + y), 'x =', (y + x))"
   ]
  },
  {
   "source": [
    "# Exercise 2.2 (What's wrong with this code?)\n",
    "***\n",
    "### The folowing code should read an integer into the variable rating:\n",
    "### rating = input('Enter an integer rating between 1 and 10')"
   ],
   "cell_type": "markdown",
   "metadata": {}
  },
  {
   "cell_type": "code",
   "execution_count": 27,
   "metadata": {
    "tags": []
   },
   "outputs": [
    {
     "output_type": "stream",
     "name": "stdout",
     "text": "Rating: 5\tFormat Type: <class 'int'>\n"
    }
   ],
   "source": [
    "# Correct Answer, add int()\n",
    "rating = int(input('Enter an integer rating between 1 and 10'))\n",
    "print(f'Rating: {rating}\\tFormat Type: {type(rating)}')"
   ]
  },
  {
   "source": [
    "# Exerice 2.3 (Fill in the missing code)\n",
    "***\n",
    "### Replace *** in the following code with a statement what will print a message like 'Congratuations! Your grade of 91 earns you an A in this course'. Your Statement should print the value stored in the variable grade.\n",
    "### if grade >= 90:\n",
    "### ***"
   ],
   "cell_type": "markdown",
   "metadata": {}
  },
  {
   "cell_type": "code",
   "execution_count": 30,
   "metadata": {
    "tags": []
   },
   "outputs": [
    {
     "output_type": "stream",
     "name": "stdout",
     "text": "Congratulations! Your grade of 91 earns you an A in this course.\n"
    }
   ],
   "source": [
    "# Answer\n",
    "grade = 91\n",
    "if grade >= 90:\n",
    "    print(f'Congratulations! Your grade of {grade} earns you an A in this course.')"
   ]
  },
  {
   "source": [
    "# Exercise 2.4 (Arithmetic)\n",
    "***\n",
    "### For each of the arithmetic operators +, -, *, /, //, and **, display the value of the expression with 27.5 as the left operand and 2 as the right operand"
   ],
   "cell_type": "markdown",
   "metadata": {}
  },
  {
   "cell_type": "code",
   "execution_count": 34,
   "metadata": {
    "tags": []
   },
   "outputs": [
    {
     "output_type": "stream",
     "name": "stdout",
     "text": "+ 29.5\n- 25.5\n* 55.0\n/ 13.75\n// 13.0\n** 756.25\n"
    }
   ],
   "source": [
    "# Answer\n",
    "left_operator = 27.5\n",
    "right_operator = 2\n",
    "\n",
    "# Print solutions\n",
    "print('+', left_operator + right_operator)\n",
    "print('-', left_operator - right_operator)\n",
    "print('*', left_operator * right_operator)\n",
    "print('/', left_operator /  right_operator)\n",
    "print('//', left_operator // right_operator)\n",
    "print('**', left_operator ** right_operator)"
   ]
  },
  {
   "source": [
    "# Exercise 2.5 (Circle Area, Diameter and Circumference)\n",
    "***\n",
    "### For a circle of radius 2, display the diameter, circumference and area. Use the vaue 3.14159 for Pie. Use the following formulas (r is the radius): Diameter = 2r, circumference = 2(Pie)(r) and area = (Pie)(r**2)."
   ],
   "cell_type": "markdown",
   "metadata": {}
  },
  {
   "cell_type": "code",
   "execution_count": 41,
   "metadata": {
    "tags": []
   },
   "outputs": [
    {
     "output_type": "stream",
     "name": "stdout",
     "text": "Circumference: 12.56636\nDiameter: 4\nArea: 12.56636\n"
    }
   ],
   "source": [
    "# Assign variables\n",
    "pie = 3.14159\n",
    "r = 2\n",
    "\n",
    "# Formulas\n",
    "circumference = 2 * pie * r\n",
    "diameter = 2 * r\n",
    "area = pie * r**2\n",
    "\n",
    "# Result\n",
    "print(f'Circumference: {circumference}\\nDiameter: {diameter}\\nArea: {area}')"
   ]
  },
  {
   "source": [
    " # Exercise 2.6 (Odd or Even)\n",
    " ***\n",
    " ### Use if statements to determine whether an integer is odd or even. "
   ],
   "cell_type": "markdown",
   "metadata": {}
  },
  {
   "cell_type": "code",
   "execution_count": 54,
   "metadata": {
    "tags": []
   },
   "outputs": [
    {
     "output_type": "stream",
     "name": "stdout",
     "text": "Even\n"
    }
   ],
   "source": [
    "# Answer\n",
    "# Sentinal value\n",
    "mod = True\n",
    "# Ensures user inputs number only\n",
    "while mod:\n",
    "    number = input('Input number only!: ')\n",
    "    if number.isdigit():\n",
    "        number = int(number)\n",
    "        mod = False\n",
    "\n",
    "# Print results\n",
    "if number % 2 == 0:\n",
    "    print('Even')\n",
    "else:\n",
    "    print('Odd')"
   ]
  },
  {
   "source": [
    "# Exercise 2.7 (Multiples)\n",
    "***\n",
    "### Use if statement to determine whether 1024 is a multiple of 4 and whether 2 is a multiple of 10"
   ],
   "cell_type": "markdown",
   "metadata": {}
  },
  {
   "cell_type": "code",
   "execution_count": 57,
   "metadata": {
    "tags": []
   },
   "outputs": [
    {
     "output_type": "stream",
     "name": "stdout",
     "text": "Multiple of 4\nMultple of 2\n"
    }
   ],
   "source": [
    "# Answer\n",
    "if 1024 % 4 == 0:\n",
    "    print('Multiple of 4')\n",
    "    if 10 % 2 == 0:\n",
    "        print('Multple of 2')"
   ]
  },
  {
   "source": [
    "# Exercise 2.8 (Table of squares and cubes)\n",
    "***\n",
    "### Write a script that calculates the squares and cubes of the numbers from 0 to 5. Print the resulting values in table format, as shown below. Use the tab escape sequence to achieve the three column output."
   ],
   "cell_type": "markdown",
   "metadata": {}
  },
  {
   "cell_type": "code",
   "execution_count": 129,
   "metadata": {
    "tags": []
   },
   "outputs": [
    {
     "output_type": "stream",
     "name": "stdout",
     "text": "    Number\t    Square\t      Cube\n         0\t         0\t         0\n         1\t         1\t         1\n         2\t         4\t         8\n         3\t         9\t        27\n         4\t        16\t        64\n         5\t        25\t       125\n"
    }
   ],
   "source": [
    "print(f'{\"Number\":>10}\\t{\"Square\":>10}\\t{\"Cube\":>10}')\n",
    "for num in range(6):\n",
    "    print(f'{num:>10}\\t{num**2:>10}\\t{num**3:>10}')"
   ]
  },
  {
   "source": [
    "# Exercise 2.9 (Integer value of a character)\n",
    "***\n",
    "### Here's a peek ahead. In this chapter, you learned about strings. Each of the string's characters has an integer representation. The set of characters a computer uses together with the characters' integer representations is called that computers' character set. you can indicate a character value in a program by inclosing that character in quotes, as in 'A'. To determin a character's integer value, call the built in function ord.\n",
    "### ord('A') = 65\n",
    "#### Display integer equilivants of\n",
    "\n",
    "<code>B, C, D, b, c, d, 0, 1, 2, $, *, +</code>\n",
    "\n"
   ],
   "cell_type": "markdown",
   "metadata": {}
  },
  {
   "cell_type": "code",
   "execution_count": 48,
   "metadata": {
    "tags": []
   },
   "outputs": [
    {
     "output_type": "stream",
     "name": "stdout",
     "text": "B = 66\nC = 67\nD = 68\nb = 98\nc = 99\nd = 100\n0 = 48\n1 = 49\n2 = 50\n$ = 36\n* = 42\n+ = 43\n"
    }
   ],
   "source": [
    "# Answer\n",
    "\n",
    "# Assign variables\n",
    "character_list = ['B', 'C', 'D', 'b', 'c', 'd', '0', '1', '2', '$', '*', '+']\n",
    "\n",
    "# Print result with for loop\n",
    "for char in character_list:\n",
    "    print(f'{char} = {ord(char)}')"
   ]
  },
  {
   "source": [
    "# Exercise 2.10 (Arithmetic, smallest and largest)\n",
    "***\n",
    "#### Write a script that inputs three integers from the user. Display the sum, average, product, smallest, and largest of the numbers. Note that each of these is a reduction in functional-style programming"
   ],
   "cell_type": "markdown",
   "metadata": {}
  },
  {
   "cell_type": "code",
   "execution_count": 102,
   "metadata": {
    "tags": []
   },
   "outputs": [
    {
     "output_type": "stream",
     "name": "stdout",
     "text": "Smallest: 2\nLargest: 10\nSum: 17\nAverage: 5.67\nProduct: 100\n"
    }
   ],
   "source": [
    "# Answer\n",
    "\n",
    "# Set setinal control (mod for modify)\n",
    "continue_input = True\n",
    "\n",
    "# Assign empty list to store numbers\n",
    "numbers = []\n",
    "\n",
    "# While loop to ensure user inputs number only\n",
    "while continue_input:\n",
    "    # Retrieve user inputs\n",
    "    int_input = input('Input a Number Only:')\n",
    "\n",
    "    # Check if inputs are numbers or digits. If true, add to list and stop loop once 3 digits entered\n",
    "    if int_input.isdigit():\n",
    "        numbers.append(int(int_input))\n",
    "        if len(numbers) == 3:\n",
    "            continue_input = False\n",
    "\n",
    "# Calculations\n",
    "smallest = min(numbers)\n",
    "largest = max(numbers)\n",
    "sum_total = sum(numbers)\n",
    "average = sum_total / len(numbers)\n",
    "# Calculate the product within the list\n",
    "product = 1\n",
    "for num in numbers:\n",
    "    product *= num\n",
    "\n",
    "# Print results\n",
    "print(f'Smallest: {smallest}')\n",
    "print(f'Largest: {largest}')\n",
    "print(f'Sum: {sum_total}')\n",
    "print(f'Average: {average:.2f}')\n",
    "print(f'Product: {product}')"
   ]
  },
  {
   "source": [
    "# Exercise 2.11 (Seperating the digits in an integer)\n",
    "***\n",
    "#### Write a script that inputs a five-digit integer from the user. Seperate the numer into its individual digits. Print them seperated by three spaces each. For example, if the user types in the number 42339, the script should print\n",
    "<code>4   2   3   3   9</code>"
   ],
   "cell_type": "markdown",
   "metadata": {}
  },
  {
   "cell_type": "code",
   "execution_count": 123,
   "metadata": {
    "tags": []
   },
   "outputs": [
    {
     "output_type": "stream",
     "name": "stdout",
     "text": "4   2   3   3   9   "
    }
   ],
   "source": [
    "# Answer\n",
    "\n",
    "# Assign empty list to inputs\n",
    "numbers = []\n",
    "\n",
    "# Sentinal variable\n",
    "mod = True\n",
    "\n",
    "# While loop to ensure use inputs numbers only\n",
    "while mod:\n",
    "    num = input('Please input a number: (5 Digits Only)')\n",
    "    if num.isdigit():\n",
    "        numbers.append(int(num))\n",
    "        # Once list reaches 5 numbers, stop loop with sentinal variable\n",
    "        if len(numbers) == 5:\n",
    "            mod = False\n",
    "\n",
    "# Print results\n",
    "for digit in numbers:\n",
    "    print(digit,end = '   ')"
   ]
  },
  {
   "source": [
    "# Exercise 2.12 (7% Investment return)\n",
    "***\n",
    "#### Some investment advisors say that it's reasonable to expect a 7% return over a long term in the stock market. Assuming that you begin with $1000 and leave your money invested, calculate and display how much money you will have after 10, 20, 30 years. Use the following formula for determining these amounts:\n",
    "### a = p(1 + r)**n\n",
    "#### p - original amount invested\n",
    "#### r - annual rate (7%)\n",
    "#### n - number of years (10, 20, 30)\n",
    "#### a - amount on deposit at the end of the nth year\n",
    "\n",
    "<code>\n",
    "principal = 1000\n",
    "rate = .07\n",
    "years = [10, 20, 30]\n",
    "total = principal*(1 + rate)**year\n",
    "</code>"
   ],
   "cell_type": "markdown",
   "metadata": {}
  },
  {
   "cell_type": "code",
   "execution_count": 146,
   "metadata": {
    "tags": []
   },
   "outputs": [
    {
     "output_type": "stream",
     "name": "stdout",
     "text": "Year\tAmount\n30\t$ 1967.15\n30\t$ 3869.68\n30\t$ 7612.26\n"
    }
   ],
   "source": [
    "# Answer\n",
    "\n",
    "# Assign variables\n",
    "principal = 1000\n",
    "rate = .07 \n",
    "year_list = [10, 20, 30]\n",
    "\n",
    "# Calculations\n",
    "print('Year\\tAmount')\n",
    "for years in year_list:\n",
    "    total = principal*(1 + rate)**years\n",
    "    print(f'{year}\\t$ {total:.2f}')"
   ]
  },
  {
   "source": [
    "# Exercise 2.13 (How big can python integers be?)\n",
    "***\n",
    "#### We'll answer this question later in the book. For now, use the exponentiation operator ** with large and very large exponents to produce some huge integers and assign those to the variable numbers to see if python accepts them. Did you find an integer value python won't accept?"
   ],
   "cell_type": "markdown",
   "metadata": {}
  },
  {
   "cell_type": "code",
   "execution_count": 8,
   "metadata": {
    "tags": []
   },
   "outputs": [],
   "source": [
    "# Answer\n",
    "# None found yet, calculation is still processing or froze.\n",
    "num = 10000000\n",
    "number = 1024 ** num"
   ]
  },
  {
   "source": [
    "# Exercies 2.14 (Target heart rate calculator)\n",
    "***\n",
    "#### While exercising, you can use a heart rate monitor to see that your heart rate stays within a safe range suggested by your doctors and trainers. According to the American Heart Association (AHA), the formula for calculating your maximum heart rate is 50-85% of your maximum heart rate. Write a script that prompts for and inputs the user's age and calculates and displays the users's maximum heart rate and the range of the user's target heart rate."
   ],
   "cell_type": "markdown",
   "metadata": {}
  },
  {
   "cell_type": "code",
   "execution_count": 10,
   "metadata": {
    "tags": []
   },
   "outputs": [
    {
     "output_type": "stream",
     "name": "stdout",
     "text": "Age: 31\nMaximum Heart Rate: 189 bpm\nHeart Rate Range for Physical Activity: 94.50 - 160.65 bpm\n"
    }
   ],
   "source": [
    "# Answer\n",
    "\n",
    "mod = True\n",
    "\n",
    "# Ensures user inputs a number only\n",
    "while mod:\n",
    "    age = input('Enter your heart rate: ')\n",
    "    if age.isdigit():\n",
    "        age = int(age)\n",
    "        mod = False\n",
    "\n",
    "# Calculations\n",
    "max_heart_rate = 220 - age\n",
    "fifty_heart_eate = max_heart_rate * .5\n",
    "eighty_five_heart_eate = max_heart_rate * .85\n",
    "\n",
    "# Print results\n",
    "print(f'Age: {age}')\n",
    "print(f'Maximum Heart Rate: {max_heart_rate} bpm')\n",
    "print(f'Heart Rate Range for Physical Activity: {fifty_heart_eate:.2f} - {eighty_five_heart_eate:.2f} bpm')"
   ]
  },
  {
   "source": [
    "# Exercise 2.15 (Sort in Ascending Order)\n",
    "***\n",
    "#### Write a script that inputs three different floating-point numbers from the user. Display the numbers in increasing order. Recall that an if statement's suite can contain more than one statement. Prove that your script works by running it on all six possible orderings of the numbers. Does your script work with duplicate numbers?"
   ],
   "cell_type": "markdown",
   "metadata": {}
  },
  {
   "cell_type": "code",
   "execution_count": 84,
   "metadata": {
    "tags": []
   },
   "outputs": [
    {
     "output_type": "stream",
     "name": "stdout",
     "text": "4.123\n4.412\n4.111\n[4.111, 4.123, 4.412]\n"
    }
   ],
   "source": [
    "# Assign an empty list to gather float numbers\n",
    "foo = []\n",
    "\n",
    "while True:\n",
    "    number = input('Type in a Decimal')\n",
    "    try:\n",
    "        foo.append(float(number))\n",
    "        print(number)\n",
    "        if len(foo) == 3:\n",
    "            break\n",
    "    except:\n",
    "        continue\n",
    "\n",
    "# Ascending Order\n",
    "asc = []\n",
    "\n",
    "if foo[0] <= foo[1] and foo[0] <= foo[2]:\n",
    "    asc += [foo[0]]\n",
    "    if foo[1] <= foo[2]:\n",
    "        asc += foo[1]\n",
    "        asc += foo[2]\n",
    "    else:\n",
    "        asc += foo[2]\n",
    "        asc += foo[1]\n",
    "elif foo[1] <= foo[0] and foo[1] <= foo[2]:\n",
    "    asc += [foo[1]]\n",
    "    if foo[0] <= foo[2]:\n",
    "        asc += [foo[0]]\n",
    "        asc += [foo[2]]\n",
    "    else:\n",
    "        asc += [foo[2]]\n",
    "        asc += [foo[0]]\n",
    "elif foo[2] <= foo[0] and foo[2] <= foo[1]:\n",
    "    asc += [foo[2]]\n",
    "    if foo[0] <= foo[1]:\n",
    "        asc += [foo[0]]\n",
    "        asc += [foo[1]]\n",
    "    else:\n",
    "        asc += [foo[1]]\n",
    "        asc += [foo[0]]\n",
    "\n",
    "print(asc)"
   ]
  }
 ]
}