{
 "metadata": {
  "language_info": {
   "codemirror_mode": {
    "name": "ipython",
    "version": 3
   },
   "file_extension": ".py",
   "mimetype": "text/x-python",
   "name": "python",
   "nbconvert_exporter": "python",
   "pygments_lexer": "ipython3",
   "version": "3.8.5-final"
  },
  "orig_nbformat": 2,
  "kernelspec": {
   "name": "Python 3.8.5 64-bit",
   "display_name": "Python 3.8.5 64-bit",
   "metadata": {
    "interpreter": {
     "hash": "1baa965d5efe3ac65b79dfc60c0d706280b1da80fedb7760faf2759126c4f253"
    }
   }
  }
 },
 "nbformat": 4,
 "nbformat_minor": 2,
 "cells": [
  {
   "source": [
    "# Chapter 2\n",
    "Book Exercises\n",
    "\n",
    "<img src ='https://media4.giphy.com/media/dNgK7Ws7y176U/giphy.gif'/>"
   ],
   "cell_type": "markdown",
   "metadata": {}
  },
  {
   "source": [
    "# Exercise 2.1 (What does this code do?) \n",
    "## Create the variables x = 2 and y = 3, then determine what each of the following statement displays:\n",
    "\n",
    "### a. print('x =', x)\n",
    "### b. print('Value of', x, '+', x, 'is', (x + x))\n",
    "### c. print('x= ')\n",
    "### d. print((x + y), 'x = ', (y + x))"
   ],
   "cell_type": "markdown",
   "metadata": {
    "tags": []
   }
  },
  {
   "cell_type": "code",
   "execution_count": 21,
   "metadata": {
    "tags": []
   },
   "outputs": [
    {
     "output_type": "stream",
     "name": "stdout",
     "text": "x = 2\nValue of 2 + 2 is 4\nx = \n5 x = 5\n"
    }
   ],
   "source": [
    "# Assign variables\n",
    "x = 2\n",
    "y = 3\n",
    "\n",
    "print('x =', x)\n",
    "print('Value of', x, '+', x, 'is', (x + x))\n",
    "print('x = ')\n",
    "print((x + y), 'x =', (y + x))"
   ]
  },
  {
   "source": [
    "# Exercise 2.2 (What's wrong with this code?)\n",
    "### The folowing code should read an integer into the variable rating:\n",
    "### rating = input('Enter an integer rating between 1 and 10')"
   ],
   "cell_type": "markdown",
   "metadata": {}
  },
  {
   "cell_type": "code",
   "execution_count": 27,
   "metadata": {
    "tags": []
   },
   "outputs": [
    {
     "output_type": "stream",
     "name": "stdout",
     "text": "Rating: 5\tFormat Type: <class 'int'>\n"
    }
   ],
   "source": [
    "# Correct Answer, add int()\n",
    "rating = int(input('Enter an integer rating between 1 and 10'))\n",
    "print(f'Rating: {rating}\\tFormat Type: {type(rating)}')"
   ]
  },
  {
   "source": [
    "# Exerice 2.3 (Fill in the missing code)\n",
    "### Replace *** in the following code with a statement what will print a message like 'Congratuations! Your grade of 91 earns you an A in this course'. Your Statement should print the value stored in the variable grade.\n",
    "### if grade >= 90:\n",
    "### ***"
   ],
   "cell_type": "markdown",
   "metadata": {}
  },
  {
   "cell_type": "code",
   "execution_count": 30,
   "metadata": {
    "tags": []
   },
   "outputs": [
    {
     "output_type": "stream",
     "name": "stdout",
     "text": "Congratulations! Your grade of 91 earns you an A in this course.\n"
    }
   ],
   "source": [
    "# Answer\n",
    "grade = 91\n",
    "if grade >= 90:\n",
    "    print(f'Congratulations! Your grade of {grade} earns you an A in this course.')"
   ]
  },
  {
   "source": [
    "# Exercise 2.4 (Arithmetic)\n",
    "### For each of the arithmetic operators +, -, *, /, //, and **, display the value of the expression with 27.5 as the left operand and 2 as the right operand"
   ],
   "cell_type": "markdown",
   "metadata": {}
  },
  {
   "cell_type": "code",
   "execution_count": 34,
   "metadata": {
    "tags": []
   },
   "outputs": [
    {
     "output_type": "stream",
     "name": "stdout",
     "text": "+ 29.5\n- 25.5\n* 55.0\n/ 13.75\n// 13.0\n** 756.25\n"
    }
   ],
   "source": [
    "# Answer\n",
    "left_operator = 27.5\n",
    "right_operator = 2\n",
    "\n",
    "# Print solutions\n",
    "print('+', left_operator + right_operator)\n",
    "print('-', left_operator - right_operator)\n",
    "print('*', left_operator * right_operator)\n",
    "print('/', left_operator /  right_operator)\n",
    "print('//', left_operator // right_operator)\n",
    "print('**', left_operator ** right_operator)"
   ]
  },
  {
   "source": [
    "# Exercise 2.5 (Circle Area, Diameter and Circumference)\n",
    "### For a circle of radius 2, display the diameter, circumference and area. Use the vaue 3.14159 for Pie. Use the following formulas (r is the radius): Diameter = 2r, circumference = 2(Pie)(r) and area = (Pie)(r**2)."
   ],
   "cell_type": "markdown",
   "metadata": {}
  },
  {
   "cell_type": "code",
   "execution_count": 41,
   "metadata": {
    "tags": []
   },
   "outputs": [
    {
     "output_type": "stream",
     "name": "stdout",
     "text": "Circumference: 12.56636\nDiameter: 4\nArea: 12.56636\n"
    }
   ],
   "source": [
    "# Assign variables\n",
    "pie = 3.14159\n",
    "r = 2\n",
    "\n",
    "# Formulas\n",
    "circumference = 2 * pie * r\n",
    "diameter = 2 * r\n",
    "area = pie * r**2\n",
    "\n",
    "# Result\n",
    "print(f'Circumference: {circumference}\\nDiameter: {diameter}\\nArea: {area}')"
   ]
  },
  {
   "source": [
    " # Exercise 2.6 (Odd or Even)\n",
    " ### Use if statements to determine whether an integer is odd or even. "
   ],
   "cell_type": "markdown",
   "metadata": {}
  },
  {
   "cell_type": "code",
   "execution_count": 54,
   "metadata": {
    "tags": []
   },
   "outputs": [
    {
     "output_type": "stream",
     "name": "stdout",
     "text": "Even\n"
    }
   ],
   "source": [
    "# Answer\n",
    "# Sentinal value\n",
    "mod = True\n",
    "# Ensures user inputs number only\n",
    "while mod:\n",
    "    number = input('Input number only!: ')\n",
    "    if number.isdigit():\n",
    "        number = int(number)\n",
    "        mod = False\n",
    "\n",
    "# Print results\n",
    "if number % 2 == 0:\n",
    "    print('Even')\n",
    "else:\n",
    "    print('Odd')"
   ]
  },
  {
   "source": [
    "# Exercise 2.7 (Multiples)\n",
    "### Use if statement to determine whether 1024 is a multiple of 4 and whether 2 is a multiple of 10"
   ],
   "cell_type": "markdown",
   "metadata": {}
  },
  {
   "cell_type": "code",
   "execution_count": 57,
   "metadata": {
    "tags": []
   },
   "outputs": [
    {
     "output_type": "stream",
     "name": "stdout",
     "text": "Multiple of 4\nMultple of 2\n"
    }
   ],
   "source": [
    "# Answer\n",
    "if 1024 % 4 == 0:\n",
    "    print('Multiple of 4')\n",
    "    if 10 % 2 == 0:\n",
    "        print('Multple of 2')"
   ]
  },
  {
   "source": [
    "# Exercise 2.8 (Table of squares and cubes)\n",
    "### Write a script that calculates the squares and cubes of the numbers from 0 to 5. Print the resulting values in table format, as shown below. Use the tab escape sequence to achieve the three column output."
   ],
   "cell_type": "markdown",
   "metadata": {}
  },
  {
   "cell_type": "code",
   "execution_count": 129,
   "metadata": {
    "tags": []
   },
   "outputs": [
    {
     "output_type": "stream",
     "name": "stdout",
     "text": "    Number\t    Square\t      Cube\n         0\t         0\t         0\n         1\t         1\t         1\n         2\t         4\t         8\n         3\t         9\t        27\n         4\t        16\t        64\n         5\t        25\t       125\n"
    }
   ],
   "source": [
    "print(f'{\"Number\":>10}\\t{\"Square\":>10}\\t{\"Cube\":>10}')\n",
    "for num in range(6):\n",
    "    print(f'{num:>10}\\t{num**2:>10}\\t{num**3:>10}')"
   ]
  },
  {
   "cell_type": "code",
   "execution_count": null,
   "metadata": {},
   "outputs": [],
   "source": []
  }
 ]
}