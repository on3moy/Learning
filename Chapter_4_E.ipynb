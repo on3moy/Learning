{
 "metadata": {
  "language_info": {
   "codemirror_mode": {
    "name": "ipython",
    "version": 3
   },
   "file_extension": ".py",
   "mimetype": "text/x-python",
   "name": "python",
   "nbconvert_exporter": "python",
   "pygments_lexer": "ipython3",
   "version": "3.8.5-final"
  },
  "orig_nbformat": 2,
  "kernelspec": {
   "name": "Python 3.8.5 64-bit",
   "display_name": "Python 3.8.5 64-bit",
   "metadata": {
    "interpreter": {
     "hash": "1baa965d5efe3ac65b79dfc60c0d706280b1da80fedb7760faf2759126c4f253"
    }
   }
  }
 },
 "nbformat": 4,
 "nbformat_minor": 2,
 "cells": [
  {
   "source": [
    "# Chapter 4 Exercises\n",
    "***\n",
    "<img src = 'https://pa1.narvii.com/6430/b15ddfc28d04534fcd01b97c84de62aa031047cb_00.gif' />"
   ],
   "cell_type": "markdown",
   "metadata": {}
  },
  {
   "source": [
    "# Exercise 4.1 (Discussion: Else Clause)\n",
    "#### Int the script of Fig 4.1 (Shown below), we did not include an else clause in the if elif statement. What are the possible consequences of this choice?\n",
    "<img src = ' images/fig_4.01.png' />"
   ],
   "cell_type": "markdown",
   "metadata": {}
  },
  {
   "source": [
    "### Answer\n",
    "There are no possible consequences, only output given would be None."
   ],
   "cell_type": "markdown",
   "metadata": {}
  },
  {
   "source": [
    "# Exercise 4.2 (Discussion: Function-Call Stack)\n",
    "#### What happens if you keep pushing onto a stack, without enough popping?"
   ],
   "cell_type": "markdown",
   "metadata": {}
  },
  {
   "source": [
    "### Answer\n",
    "Stack overflow"
   ],
   "cell_type": "markdown",
   "metadata": {}
  },
  {
   "source": [
    "# Exercise 4.3 (What is Wrong with this Code?)\n",
    "#### What is wrong with the following cube function's definition?\n",
    "\n",
    "    def cube(x):\n",
    "        \"\"\"Calculate the cube of the x.\"\"\"\n",
    "        x ** 3\n",
    "    print('The cube of the 2 is', cube(2))\n"
   ],
   "cell_type": "markdown",
   "metadata": {}
  },
  {
   "source": [
    "### Answer\n",
    "1. Function does not return anything\n",
    "2. Local variable is not assigned within Function\n",
    "3. Variable is not set to global in function, if the purpose was to change object."
   ],
   "cell_type": "markdown",
   "metadata": {}
  },
  {
   "source": [
    "# Exercise 4.4 (What does this code do?!)\n",
    "#### What does the following mystery function do? Assume you pass the list <code>1, 2, 3, 4, 5</code> as an argument.\n",
    "\n",
    "    def mystery(x):\n",
    "        y = 0\n",
    "        for value in x:\n",
    "            y += value ** 2\n",
    "        return y"
   ],
   "cell_type": "markdown",
   "metadata": {}
  },
  {
   "source": [
    "### Answer\n",
    "Function interates through list, squares each number and adds to y. Returns the total of y once interation is complete"
   ],
   "cell_type": "markdown",
   "metadata": {}
  },
  {
   "source": [
    "# Exercise 4.5 (Fill in the missing code)\n",
    "#### Replace the ***s in the <code>seconds_since_midnight</code> function so that it returns the number of seconds since midnight.\n",
    "The function should receive three integers representing the current time of day. Assume that the hour is a value from 0 (midnight) through 23 (11 PM) and the minute and second values from 0 to 59. Test your function with actual times. For exmaple, if you call the function for 1:30:45 PM by passin <code>13,30,45</code> the function should return <code>48645</code>\n",
    "\n",
    "    def seconds_since_midnight(***):\n",
    "        hour_in_seconds = ***\n",
    "        minute_in_seconds = ***\n",
    "        return ***"
   ],
   "cell_type": "markdown",
   "metadata": {}
  },
  {
   "cell_type": "code",
   "execution_count": 268,
   "metadata": {},
   "outputs": [
    {
     "output_type": "execute_result",
     "data": {
      "text/plain": [
       "48645"
      ]
     },
     "metadata": {},
     "execution_count": 268
    }
   ],
   "source": [
    "import datetime\n",
    "\n",
    "def seconds_since_midnight(hour, minute,seconds):\n",
    "    hour_in_seconds = (datetime.time(hour, minute, seconds).hour - datetime.time(0, 0, 0).hour) * 3600\n",
    "    minute_in_seconds = (datetime.time(hour, minute, seconds).minute - datetime.time(0, 0, 0).minute) * 60\n",
    "    return hour_in_seconds + minute_in_seconds + seconds \n",
    "    \n",
    "seconds_since_midnight(13,30,45)"
   ]
  },
  {
   "source": [
    "# Exercise 4.6 (Modified Average Function)\n",
    "#### The average function we defined previously can receive any number of arguments with <code>args</code>. If you call it with no arguments, however, the function causes a <code>ZeroDivisionError</code>. Reimplement average to receive one required argument and the arbitrary argument list argument <code>args</code>, and update its calculation accodingly. Test your function. The function will always require at least one argument, so you will no longer be able to get a <code>ZeroDivisionError</code>. When you call <code>average</code> with no arguments, Python should issue <code>TypeError</code> indicating <code>\"average() missing 1 required potential argument.\"</code>\n",
    "    def average(*args):\n",
    "        return sum(args) / len(args)"
   ],
   "cell_type": "markdown",
   "metadata": {}
  },
  {
   "cell_type": "code",
   "execution_count": 354,
   "metadata": {},
   "outputs": [
    {
     "output_type": "execute_result",
     "data": {
      "text/plain": [
       "6.0"
      ]
     },
     "metadata": {},
     "execution_count": 354
    }
   ],
   "source": [
    "def average(num, *args):\n",
    "    if args:\n",
    "        list1 = [num]\n",
    "        for num in args:\n",
    "            list1.append(num)\n",
    "    else:\n",
    "        return  num\n",
    "    return sum(list1) / len(list1)\n",
    "\n",
    "average(5,5,5,5,10)"
   ]
  },
  {
   "source": [
    "# Exercise 4.7 (Date and Time)\n",
    "### Python's <code>datetime</code> module contains a <code>datetime</code> type with a method <code>today</code> that returns the current date and time as a <code>datetime</code> object. Write a paramerless <code>date_and_time</code> function containing the following statement, then call that function to display the current date and time:\n",
    "        print(datetime.datetime.today())"
   ],
   "cell_type": "markdown",
   "metadata": {}
  },
  {
   "cell_type": "code",
   "execution_count": 441,
   "metadata": {},
   "outputs": [
    {
     "output_type": "stream",
     "name": "stdout",
     "text": [
      "2020-10-12 17:17:46.294505\n"
     ]
    }
   ],
   "source": [
    "def date_and_time():\n",
    "    today = datetime.datetime.today()\n",
    "    print(today)\n",
    "date_and_time()"
   ]
  },
  {
   "source": [
    "# Exerise 4.8 (Rounding Numbers)\n",
    "#### Investigate built in function <code>round</code> at [Python Docs](https://docs.python.org/3/library/functions.html#round)\n",
    "Then use it to round the float value <code>13.56449</code> to the nearest integer, tenths, hundredths and thousandths positions."
   ],
   "cell_type": "markdown",
   "metadata": {}
  },
  {
   "cell_type": "code",
   "execution_count": 444,
   "metadata": {},
   "outputs": [
    {
     "output_type": "stream",
     "name": "stdout",
     "text": [
      "14.0\n",
      "13.6\n",
      "13.56\n",
      "13.564\n"
     ]
    }
   ],
   "source": [
    "value = 13.56449\n",
    "print(round(value,0))\n",
    "print(round(value,1))\n",
    "print(round(value,2))\n",
    "print(round(value,3))"
   ]
  },
  {
   "source": [
    "# Exercise 4.9 (Temperature Conversion)\n",
    "#### Implement a <code>fahrenheit</code> function that returns the Fahrenheit equivalent of a Celsius temperature. use the following formula.\n",
    "    F = (9/5) * C + 32\n",
    "\n",
    "Use this function to print a chart showing the Fahrenheit equivalents of all Celsius temperatures in the range 0-100 degrees. Use one digit of precision for the results. Print the outputs in a neat tabular format."
   ],
   "cell_type": "markdown",
   "metadata": {}
  },
  {
   "cell_type": "code",
   "execution_count": 10,
   "metadata": {},
   "outputs": [
    {
     "output_type": "stream",
     "name": "stdout",
     "text": [
      "Celsius\tFahrenheit\n0 C\t32 F\n1 C\t34 F\n2 C\t36 F\n3 C\t37 F\n4 C\t39 F\n5 C\t41 F\n6 C\t43 F\n7 C\t45 F\n8 C\t46 F\n9 C\t48 F\n10 C\t50 F\n11 C\t52 F\n12 C\t54 F\n13 C\t55 F\n14 C\t57 F\n15 C\t59 F\n16 C\t61 F\n17 C\t63 F\n18 C\t64 F\n19 C\t66 F\n20 C\t68 F\n21 C\t70 F\n22 C\t72 F\n23 C\t73 F\n24 C\t75 F\n25 C\t77 F\n26 C\t79 F\n27 C\t81 F\n28 C\t82 F\n29 C\t84 F\n30 C\t86 F\n31 C\t88 F\n32 C\t90 F\n33 C\t91 F\n34 C\t93 F\n35 C\t95 F\n36 C\t97 F\n37 C\t99 F\n38 C\t100 F\n39 C\t102 F\n40 C\t104 F\n41 C\t106 F\n42 C\t108 F\n43 C\t109 F\n44 C\t111 F\n45 C\t113 F\n46 C\t115 F\n47 C\t117 F\n48 C\t118 F\n49 C\t120 F\n50 C\t122 F\n51 C\t124 F\n52 C\t126 F\n53 C\t127 F\n54 C\t129 F\n55 C\t131 F\n56 C\t133 F\n57 C\t135 F\n58 C\t136 F\n59 C\t138 F\n60 C\t140 F\n61 C\t142 F\n62 C\t144 F\n63 C\t145 F\n64 C\t147 F\n65 C\t149 F\n66 C\t151 F\n67 C\t153 F\n68 C\t154 F\n69 C\t156 F\n70 C\t158 F\n71 C\t160 F\n72 C\t162 F\n73 C\t163 F\n74 C\t165 F\n75 C\t167 F\n76 C\t169 F\n77 C\t171 F\n78 C\t172 F\n79 C\t174 F\n80 C\t176 F\n81 C\t178 F\n82 C\t180 F\n83 C\t181 F\n84 C\t183 F\n85 C\t185 F\n86 C\t187 F\n87 C\t189 F\n88 C\t190 F\n89 C\t192 F\n90 C\t194 F\n91 C\t196 F\n92 C\t198 F\n93 C\t199 F\n94 C\t201 F\n95 C\t203 F\n96 C\t205 F\n97 C\t207 F\n98 C\t208 F\n99 C\t210 F\n100 C\t212 F\n"
     ]
    }
   ],
   "source": [
    "def fahrenheit(celsius):\n",
    "    return (9/5) * celsius + 32\n",
    "\n",
    "print('Celsius\\tFahrenheit')\n",
    "for temperature in range(101):\n",
    "    print(f'{temperature} C\\t{fahrenheit(temperature):.0f} F')"
   ]
  },
  {
   "source": [
    "# 4.10 (Guess The Number):\n",
    "#### Write a script that playes \"guess the number.\" Choose the number to be guessed by selecting a random integre in the range 1 to 1000. Do not reveal this number to the user. Display the prompt <code>\"Guess my number between 1 and 1000 with the fewest guesses: \"</code>. The player inputs a first guess. If the guess is incorrect, display <code>\"Too high. Try again.\"</code> Or <code>\"Too low. Try again.\"</code> as appropriate to help the player \"zero in\" on the correct answer, then prompt the user for the next guess. When the user enteres the correct answer, display <code>\"Congratulations. You guessed the number!\"</code>, and allow the user to choose whether to play again."
   ],
   "cell_type": "markdown",
   "metadata": {}
  },
  {
   "cell_type": "code",
   "execution_count": 206,
   "metadata": {},
   "outputs": [
    {
     "output_type": "stream",
     "name": "stdout",
     "text": [
      "Guess my Number as begun!\n",
      "479\n",
      "Your guess is Higher\n",
      "479\n",
      "Your guess is Higher\n",
      "479\n",
      "Your guess is Higher\n",
      "479\n",
      "Congratulations. You guessed the number!\n",
      "755\n",
      "Your guess is Lower\n",
      "755\n",
      "Your guess is Lower\n",
      "755\n",
      "Your guess is Lower\n",
      "755\n",
      "Congratulations. You guessed the number!\n",
      "Thanks for playing!\n"
     ]
    }
   ],
   "source": [
    "def rand_int():\n",
    "    import random\n",
    "    return random.randint(0,1000)\n",
    "\n",
    "\n",
    "def choose_number():\n",
    "    while True:\n",
    "        number = input('Choose a number between 1 and 1000')\n",
    "        if number.isdigit():\n",
    "            if int(number) >= 1 and int(number) <= 1000:\n",
    "                number = int(number)\n",
    "                return number\n",
    "\n",
    "def continue_game():\n",
    "    while True:\n",
    "        player_response = input('Would you like to continue playing? (Y or N): ')\n",
    "        if player_response.lower() == 'y':\n",
    "            return True\n",
    "        elif player_response.lower() == 'n':\n",
    "            return False\n",
    "\n",
    "\n",
    "def play_game():\n",
    "\n",
    "    print('Guess my Number as begun!')\n",
    "    game_on = True\n",
    "    guess = rand_int()\n",
    "\n",
    "    while game_on:\n",
    "        player_num = choose_number()\n",
    "        if player_num == guess:\n",
    "            print('Congratulations. You guessed the number!')\n",
    "            if continue_game() == False:\n",
    "                game_on = False\n",
    "                print('Thanks for playing!')\n",
    "            else:\n",
    "                guess = rand_int()\n",
    "        elif player_num < guess:\n",
    "            print('Your guess is Lower')\n",
    "        elif player_num > guess:\n",
    "            print('Your guess is Higher')\n",
    "play_game()"
   ]
  },
  {
   "source": [
    "# 4.11 (Guess the Number Modification)\n",
    "#### Modify the previous exercise to count the number of guesses the player makes. If the number is 10 or fewer, display <code>\"Either you know the secret or you got lucky!\"</code> If the player makes more than 10 guesses, display <code>\"You should be able to do better!\"</code> Why should it take no more than 10 guesses? Well, with each \"Good guess\", the player should be able to eliminaate half of the numbers, then half of the remaining numbers and so on. Doing this 10 times narrows down the possibilities to a single number. This kind of \"Halving\" appears in many computer science applications. For example, in the \"Computer Science Thinking: Recursion, Searching, Sorting, and Big O' chapter, we'll present the high-speed binary search and merge sort algorithms, and you'll attempt the quicksort exercise-each of this cleverly uses halving to achieve high performance."
   ],
   "cell_type": "markdown",
   "metadata": {}
  },
  {
   "cell_type": "code",
   "execution_count": 212,
   "metadata": {},
   "outputs": [
    {
     "output_type": "stream",
     "name": "stdout",
     "text": [
      "Guess my Number as begun!\n",
      "Your guess is Higher\n",
      "Your guess is Higher\n",
      "Your guess is Higher\n",
      "Your guess is Higher\n",
      "Your guess is Higher\n",
      "Either you know the secret or you got lucky!\n",
      "Thanks for playing!\n"
     ]
    }
   ],
   "source": [
    "def rand_int():\n",
    "    import random\n",
    "    return random.randint(0,1000)\n",
    "\n",
    "\n",
    "def choose_number():\n",
    "    while True:\n",
    "        number = input('Choose a number between 1 and 1000')\n",
    "        if number.isdigit():\n",
    "            if int(number) >= 1 and int(number) <= 1000:\n",
    "                number = int(number)\n",
    "                return number\n",
    "\n",
    "def continue_game():\n",
    "    while True:\n",
    "        player_response = input('Would you like to continue playing? (Y or N): ')\n",
    "        if player_response.lower() == 'y':\n",
    "            return True\n",
    "        elif player_response.lower() == 'n':\n",
    "            return False\n",
    "\n",
    "def play_game():\n",
    "\n",
    "    print('Guess my Number as begun!')\n",
    "    game_on = True\n",
    "    guess = rand_int()\n",
    "    guess_count = 0\n",
    "\n",
    "    while game_on:\n",
    "        player_num = choose_number()\n",
    "        if player_num == guess:\n",
    "            if guess_count < 10:\n",
    "                print('Either you know the secret or you got lucky!')\n",
    "            else:\n",
    "                print('Congratulations! You guessed right!')\n",
    "                print('You should be able to do better!')\n",
    "            if continue_game() == False:\n",
    "                game_on = False\n",
    "                print('Thanks for playing!')\n",
    "            else:\n",
    "                guess = rand_int()\n",
    "        elif player_num < guess:\n",
    "            print('Your guess is Lower')\n",
    "        elif player_num > guess:\n",
    "            print('Your guess is Higher')\n",
    "        guess_count += 1\n",
    "\n",
    "play_game()"
   ]
  },
  {
   "source": [
    "# 4.12 (Simulation: The Tortoise and The Hare)\n",
    "#### In this problem, you will re-create the classic race of the tortoise and the hare. You'll use random-number generation to develop a simulation of this memorable event.\n",
    "Our contenders begin the race at square 1 of 70 squares. Each square represents a position along the race course. The finish line is at square 70. The first contender to reach or pass square 70 is rewarded with a pail of fresh carrots and lettuce. The course weaves its way up the side of a slippery mountain, so occasionally the contenders lose ground.\n",
    "A clock ticks once per second. With each tick of the clock, your application should adjust position of the animals according to the rules in the table below. Use variables to keep track of the positions of the animals. Start each animal at position 1. If an animal slips left before square 1, move it back to square 1.\n",
    "\n",
    "<img src = 'images/tortoise_hare.png' />\n",
    "\n",
    "Create two functions that generate the percentages in the table for the tortoise and the hare, respectively, by producing a random integer i in the range 1 <= i <= 10. In the funcyion for the tortoise, perform a \"fast plod\" when 1 <= i <= 5, a \"slip\" when 6 <= i <= 7 or a \"Slow pod\" when 8 <= i <= 10. Use a similiar technique in the function for the hare. Begin the race by displaying\n",
    "    \n",
    "    Bang!!!!!\n",
    "    AND THEY ARE OFF!!!!!\n",
    "Then, for each tick of the clock (i.e each iteration of a loop), display a 70-position line showing the letter \"T\" in the position of the tortoise and the letter \"H\" in the position of the hare. Occasionally, the contenders will land on the same square. In this case, the tortoise bites the hare, and your application should display <code>\"OUCH!!!!\"</code> at that position. All positions other than the \"T\", the \"H\" or the \"OUCH!!!\" should be blank.\n",
    "\n",
    "After each line is displayed, test for whether either animal has reached or passed square 70. If so, display the winner and terminate the simulation. If the tortoise wins, display \"Tortoise wins!!! YAY!!. If the hare wins, display Hare wins. Yuch. If both animals win on the same tick, favor the tortoise or do a tie. If neither animal wins, perform a loop again to simulate the next tick of the clock."
   ],
   "cell_type": "markdown",
   "metadata": {}
  },
  {
   "cell_type": "code",
   "execution_count": 17,
   "metadata": {},
   "outputs": [],
   "source": [
    "# Import libraries\n",
    "import random"
   ]
  },
  {
   "cell_type": "code",
   "execution_count": 18,
   "metadata": {},
   "outputs": [],
   "source": [
    "# Named Constants\n",
    "t_fast_plod = 3 # .5 square to the right\n",
    "t_slip = 6 #.2 squares to the left\n",
    "t_slow_plod = 1 # .3 square to the right\n",
    "\n",
    "h_sleep = 0 # .2 no move\n",
    "h_big_hop = 9 # .2 squares to the right\n",
    "h_big_slip = 12 # .1 squares to the left\n",
    "h_small_hop = 1 # .3 square to the right\n",
    "h_small_slip = 2 # .2 squares to the left"
   ]
  },
  {
   "cell_type": "code",
   "execution_count": 19,
   "metadata": {},
   "outputs": [],
   "source": [
    "def generate_integer():\n",
    "    return random.randint(1,10)\n",
    "\n",
    "def hare_move(number):\n",
    "    if number <= 2:\n",
    "        return h_sleep\n",
    "    elif number > 2 and number <= 4:\n",
    "        return h_big_hop\n",
    "    elif number > 4 and number <= 6:\n",
    "        return h_small_slip\n",
    "    elif number > 6 and number <=7:\n",
    "        return h_big_slip\n",
    "    elif number > 7 and number <= 10:\n",
    "        return h_small_hop\n",
    "\n",
    "def tortoise_move(number):\n",
    "    if number <= 5:\n",
    "        return t_fast_plod\n",
    "    elif number > 5 and number <= 7:\n",
    "        return t_slip\n",
    "    elif number > 7 and number <= 10:\n",
    "        return t_slow_plod\n",
    "\n",
    "\n",
    "\n",
    "\n",
    "    \n",
    "     "
   ]
  },
  {
   "cell_type": "code",
   "execution_count": 1,
   "metadata": {},
   "outputs": [
    {
     "output_type": "error",
     "ename": "NameError",
     "evalue": "name 'tortoise_move' is not defined",
     "traceback": [
      "\u001b[1;31m---------------------------------------------------------------------------\u001b[0m",
      "\u001b[1;31mNameError\u001b[0m                                 Traceback (most recent call last)",
      "\u001b[1;32m<ipython-input-1-10a47a269967>\u001b[0m in \u001b[0;36m<module>\u001b[1;34m\u001b[0m\n\u001b[1;32m----> 1\u001b[1;33m \u001b[0mtortoise_move\u001b[0m\u001b[1;33m(\u001b[0m\u001b[0mrandom\u001b[0m\u001b[1;33m.\u001b[0m\u001b[0mrandint\u001b[0m\u001b[1;33m(\u001b[0m\u001b[1;36m1\u001b[0m\u001b[1;33m,\u001b[0m\u001b[1;36m10\u001b[0m\u001b[1;33m)\u001b[0m\u001b[1;33m)\u001b[0m\u001b[1;33m\u001b[0m\u001b[1;33m\u001b[0m\u001b[0m\n\u001b[0m",
      "\u001b[1;31mNameError\u001b[0m: name 'tortoise_move' is not defined"
     ]
    }
   ],
   "source": [
    "tortoise_move(random.randint(1,10))"
   ]
  }
 ]
}