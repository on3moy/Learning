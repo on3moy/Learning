{
 "metadata": {
  "language_info": {
   "codemirror_mode": {
    "name": "ipython",
    "version": 3
   },
   "file_extension": ".py",
   "mimetype": "text/x-python",
   "name": "python",
   "nbconvert_exporter": "python",
   "pygments_lexer": "ipython3",
   "version": "3.8.5-final"
  },
  "orig_nbformat": 2,
  "kernelspec": {
   "name": "python3",
   "display_name": "Python 3.8.5 64-bit",
   "metadata": {
    "interpreter": {
     "hash": "1baa965d5efe3ac65b79dfc60c0d706280b1da80fedb7760faf2759126c4f253"
    }
   }
  }
 },
 "nbformat": 4,
 "nbformat_minor": 2,
 "cells": [
  {
   "source": [
    "# Exercises 5.7 and below got erased... You didn't save or commit and file vanished."
   ],
   "cell_type": "markdown",
   "metadata": {}
  },
  {
   "source": [
    "# 5.8 Sieve or Eratosthenes"
   ],
   "cell_type": "markdown",
   "metadata": {}
  },
  {
   "cell_type": "code",
   "execution_count": 139,
   "metadata": {},
   "outputs": [
    {
     "output_type": "stream",
     "name": "stdout",
     "text": [
      "0 1 2 3 5 7 11 13 17 19 23 29 31 37 41 43 47 53 59 61 67 71 73 79 83 89 97 101 103 107 109 113 127 131 137 139 149 151 157 163 167 173 179 181 191 193 197 199 211 223 227 229 233 239 241 251 257 263 269 271 277 281 283 293 307 311 313 317 331 337 347 349 353 359 367 373 379 383 389 397 401 409 419 421 431 433 439 443 449 457 461 463 467 479 487 491 499 503 509 521 523 541 547 557 563 569 571 577 587 593 599 601 607 613 617 619 631 641 643 647 653 659 661 673 677 683 691 701 709 719 727 733 739 743 751 757 761 769 773 787 797 809 811 821 823 827 829 839 853 857 859 863 877 881 883 887 907 911 919 929 937 941 947 953 967 971 977 983 991 997 "
     ]
    }
   ],
   "source": [
    "# Search for all Prime Numbers in a List\n",
    "numbers = list(range(1_000))\n",
    "for num in numbers:\n",
    "    for x in range(2,num):\n",
    "            if num % x == 0:\n",
    "                break\n",
    "    else:\n",
    "        print(num, end=' ')  "
   ]
  },
  {
   "source": [
    "# 5.9 Palindrome Tester\n",
    "A string that's spelled identically backward and forward, like 'radar', is a palindrome. Write a function <code>is_palindrome</code> that takes a string and returns <code>True</code> if it's a palindrome and <code>False</code> if otherwise. Use a stack to help determin whether a string is a palindrome. Function should ingonore case sensitivity, spaces and punctuation."
   ],
   "cell_type": "markdown",
   "metadata": {}
  },
  {
   "cell_type": "code",
   "execution_count": 231,
   "metadata": {},
   "outputs": [],
   "source": [
    "def is_palindrome(string='Radar'):\n",
    "    \"\"\" Inputs a string and outputs a boolean if the string is a boolean\"\"\"\n",
    "    alphabet = [chr(x) for x in range(ord('a'),ord('z')+1)]\n",
    "    reverse = []\n",
    "    normal = []\n",
    "    for letter in string[::-1]:\n",
    "        if letter.lower() in alphabet:\n",
    "            reverse += [letter.lower()]\n",
    "    for char in string:\n",
    "        if char.lower() in alphabet:\n",
    "            normal += [char.lower()]\n",
    "    if reverse == normal:\n",
    "        return True\n",
    "    else:\n",
    "        return False"
   ]
  },
  {
   "source": [
    "# 5.10 Anagrams\n",
    "An anagram of a string is another string formed by rearranging the letters in the first. Write a script that produces all possible anagrams of a given string using only techniques that you have seen at this point in the book. The <code> itertools </code> module provides many functions, including one that produces permutations"
   ],
   "cell_type": "markdown",
   "metadata": {}
  },
  {
   "cell_type": "code",
   "execution_count": 249,
   "metadata": {},
   "outputs": [
    {
     "output_type": "execute_result",
     "data": {
      "text/plain": [
       "[('w', 'e', 'r'),\n",
       " ('w', 'r', 'e'),\n",
       " ('e', 'w', 'r'),\n",
       " ('e', 'r', 'w'),\n",
       " ('r', 'w', 'e'),\n",
       " ('r', 'e', 'w')]"
      ]
     },
     "metadata": {},
     "execution_count": 249
    }
   ],
   "source": [
    "import itertools\n",
    "list(itertools.permutations('wer'))"
   ]
  },
  {
   "cell_type": "code",
   "execution_count": 250,
   "metadata": {},
   "outputs": [
    {
     "output_type": "stream",
     "name": "stdout",
     "text": [
      "m\nm\nm\no\no\no\ny\ny\ny\n"
     ]
    }
   ],
   "source": [
    "foo = 'moy'\n",
    "\n",
    "for i in range(len(foo)):\n",
    "    for x in foo:\n",
    "        for y in foo[i]:\n",
    "            print(y)"
   ]
  },
  {
   "cell_type": "code",
   "execution_count": null,
   "metadata": {},
   "outputs": [],
   "source": []
  }
 ]
}