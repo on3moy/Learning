{
 "metadata": {
  "language_info": {
   "codemirror_mode": {
    "name": "ipython",
    "version": 3
   },
   "file_extension": ".py",
   "mimetype": "text/x-python",
   "name": "python",
   "nbconvert_exporter": "python",
   "pygments_lexer": "ipython3",
   "version": "3.8.5-final"
  },
  "orig_nbformat": 2,
  "kernelspec": {
   "name": "Python 3.8.5 64-bit",
   "display_name": "Python 3.8.5 64-bit",
   "metadata": {
    "interpreter": {
     "hash": "1baa965d5efe3ac65b79dfc60c0d706280b1da80fedb7760faf2759126c4f253"
    }
   }
  }
 },
 "nbformat": 4,
 "nbformat_minor": 2,
 "cells": [
  {
   "source": [
    "# Chapter 4 Notes\n",
    "<img src='https://media1.tenor.com/images/a5d74aaf9f62c1dced035bede7514f77/tenor.gif?itemid=12821965' title = 'Study!' height = 200/>"
   ],
   "cell_type": "markdown",
   "metadata": {}
  },
  {
   "source": [
    "# Math Module"
   ],
   "cell_type": "markdown",
   "metadata": {}
  },
  {
   "cell_type": "code",
   "execution_count": 3,
   "metadata": {},
   "outputs": [],
   "source": [
    "import math"
   ]
  },
  {
   "cell_type": "code",
   "execution_count": 4,
   "metadata": {},
   "outputs": [
    {
     "output_type": "execute_result",
     "data": {
      "text/plain": [
       "30.0"
      ]
     },
     "metadata": {},
     "execution_count": 4
    }
   ],
   "source": [
    "# Square Root function as float value\n",
    "math.sqrt(900)"
   ]
  },
  {
   "cell_type": "code",
   "execution_count": 6,
   "metadata": {},
   "outputs": [
    {
     "output_type": "execute_result",
     "data": {
      "text/plain": [
       "10.0"
      ]
     },
     "metadata": {},
     "execution_count": 6
    }
   ],
   "source": [
    "# Returns the abosolute value\n",
    "math.fabs(-10)"
   ]
  },
  {
   "source": [
    "# More Methods\n",
    "<img src = 'images//math_methods.png' />"
   ],
   "cell_type": "markdown",
   "metadata": {}
  },
  {
   "cell_type": "code",
   "execution_count": 8,
   "metadata": {},
   "outputs": [
    {
     "output_type": "stream",
     "text": [
      "\u001b[1;31mSignature:\u001b[0m \u001b[0mmath\u001b[0m\u001b[1;33m.\u001b[0m\u001b[0msqrt\u001b[0m\u001b[1;33m(\u001b[0m\u001b[0mx\u001b[0m\u001b[1;33m,\u001b[0m \u001b[1;33m/\u001b[0m\u001b[1;33m)\u001b[0m\u001b[1;33m\u001b[0m\u001b[1;33m\u001b[0m\u001b[0m\n",
      "\u001b[1;31mDocstring:\u001b[0m Return the square root of x.\n",
      "\u001b[1;31mType:\u001b[0m      builtin_function_or_method\n"
     ],
     "name": "stdout"
    }
   ],
   "source": [
    "# Learn more about functions and methods with ?\n",
    "math.sqrt?"
   ]
  },
  {
   "cell_type": "code",
   "execution_count": 11,
   "metadata": {},
   "outputs": [],
   "source": [
    "# Default Parameters, if no arguments inputed, defaults are used\n",
    "def popo(x = 1, y = 2):\n",
    "    if x == 1 and y == 2:\n",
    "        default = 'Defaults have been used'\n",
    "    else:\n",
    "        default = 'Defaults not used'\n",
    "    print(f'Numbers Inputted: {x,y}\\n{default}')"
   ]
  },
  {
   "cell_type": "code",
   "execution_count": 15,
   "metadata": {},
   "outputs": [
    {
     "output_type": "stream",
     "name": "stdout",
     "text": [
      "Numbers Inputted: (1, 2)\nDefaults have been used\n"
     ]
    }
   ],
   "source": [
    "popo()"
   ]
  },
  {
   "cell_type": "code",
   "execution_count": 17,
   "metadata": {},
   "outputs": [
    {
     "output_type": "stream",
     "name": "stdout",
     "text": [
      "Numbers Inputted: (1, 4)\nDefaults not used\n"
     ]
    }
   ],
   "source": [
    "popo(1,4)"
   ]
  },
  {
   "source": [
    "# Arbitrary Argument List"
   ],
   "cell_type": "markdown",
   "metadata": {}
  },
  {
   "cell_type": "code",
   "execution_count": 95,
   "metadata": {},
   "outputs": [],
   "source": [
    "# Funtion only allows for two inputs\n",
    "def sum_function(num1, num2):\n",
    "    return sum([num1,num2])\n",
    "\n",
    "# *args used to depict any number of arguments can be inputted\n",
    "def sum_function_many(*args):\n",
    "    return sum(args)"
   ]
  },
  {
   "cell_type": "code",
   "execution_count": 96,
   "metadata": {},
   "outputs": [
    {
     "output_type": "stream",
     "name": "stdout",
     "text": [
      "3\n6\n21\n0\n"
     ]
    }
   ],
   "source": [
    "print(sum_function(1,2))\n",
    "print(sum_function_many(1,2,3))\n",
    "print(sum_function_many(1,2,3,4,5,6))\n",
    "print(sum_function_many())"
   ]
  },
  {
   "cell_type": "code",
   "execution_count": 99,
   "metadata": {},
   "outputs": [
    {
     "output_type": "execute_result",
     "data": {
      "text/plain": [
       "6"
      ]
     },
     "metadata": {},
     "execution_count": 99
    }
   ],
   "source": [
    "foo = [1,2,3]\n",
    "sum_function_many(*foo)"
   ]
  },
  {
   "source": [
    "# Global and Local Variables"
   ],
   "cell_type": "markdown",
   "metadata": {}
  },
  {
   "cell_type": "code",
   "execution_count": 138,
   "metadata": {},
   "outputs": [],
   "source": [
    "# Global variable\n",
    "bday = 13\n",
    "\n",
    "def foo(num):\n",
    "    # Local variable\n",
    "    bday = num\n",
    "    return f'Local bday: {bday}'\n",
    "\n",
    "# Forces change in global variable\n",
    "def foo_global(num):\n",
    "    global bday\n",
    "    bday = num\n",
    "    return bday"
   ]
  },
  {
   "cell_type": "code",
   "execution_count": 140,
   "metadata": {},
   "outputs": [
    {
     "output_type": "stream",
     "name": "stdout",
     "text": [
      "Local bday: 4\nbday: 10 | Object Unchanged\nNumber Inputted: 10\nNew Global Variable: 10\n"
     ]
    }
   ],
   "source": [
    "print(foo(4))\n",
    "print(f'bday: {bday} | Object Unchanged')\n",
    "print(f'Number Inputted: {foo_global(10)}\\nNew Global Variable: {bday}')"
   ]
  },
  {
   "source": [
    "# Importing Modules"
   ],
   "cell_type": "markdown",
   "metadata": {}
  },
  {
   "cell_type": "code",
   "execution_count": 146,
   "metadata": {},
   "outputs": [],
   "source": [
    "# Imports numpy module and renames as np\n",
    "import numpy as np\n",
    "\n",
    "# imports two methods only from math module\n",
    "from math import ceil, floor\n",
    "\n",
    "# Imports everything \n",
    "# Avoid this method as it can cause problems if you do not know all method names\n",
    "from math import *"
   ]
  },
  {
   "source": [
    "# Function - Call Stack\n",
    "<code>\n",
    "Stacks are known as last-in, first out (LIFO) data structures \n",
    "</code>\n"
   ],
   "cell_type": "markdown",
   "metadata": {}
  },
  {
   "source": [
    "# Statistics\n",
    "#### Standard Deviation and Variance for Population and Samples"
   ],
   "cell_type": "markdown",
   "metadata": {}
  },
  {
   "cell_type": "code",
   "execution_count": 148,
   "metadata": {},
   "outputs": [],
   "source": [
    "import statistics as stats"
   ]
  },
  {
   "cell_type": "code",
   "execution_count": 161,
   "metadata": {},
   "outputs": [
    {
     "output_type": "stream",
     "name": "stdout",
     "text": [
      "Population Variance: 2.92\nSample Variance: 3.50\nPopulation Standard Deviation: 1.71\nSample Standard Deviation: 1.87\n"
     ]
    }
   ],
   "source": [
    "list_1 = [1,2,3,4,5,6]\n",
    "\n",
    "# Population Variance\n",
    "print(f'Population Variance: {stats.pvariance(list_1):.2f}')\n",
    "\n",
    "# Sample Variance\n",
    "print(f'Sample Variance: {stats.variance(list_1):.2f}')\n",
    "\n",
    "# Populatiion Standard Deviation\n",
    "print(f'Population Standard Deviation: {stats.pstdev(list_1):.2f}')\n",
    "\n",
    "# Sample Standard Deviation\n",
    "print(f'Sample Standard Deviation: {stats.stdev(list_1):.2f}')"
   ]
  }
 ]
}