{
 "metadata": {
  "language_info": {
   "codemirror_mode": {
    "name": "ipython",
    "version": 3
   },
   "file_extension": ".py",
   "mimetype": "text/x-python",
   "name": "python",
   "nbconvert_exporter": "python",
   "pygments_lexer": "ipython3",
   "version": "3.8.5-final"
  },
  "orig_nbformat": 2,
  "kernelspec": {
   "name": "python3",
   "display_name": "Python 3.8.5 64-bit",
   "metadata": {
    "interpreter": {
     "hash": "1baa965d5efe3ac65b79dfc60c0d706280b1da80fedb7760faf2759126c4f253"
    }
   }
  }
 },
 "nbformat": 4,
 "nbformat_minor": 2,
 "cells": [
  {
   "source": [
    "# Chpater 6 Notes\n",
    "***\n",
    "<img src = 'https://64.media.tumblr.com/606df8ed781c900a4434c5bf9c106d1c/tumblr_p73ougJENv1tcvan1o1_500.gif' title = 'Chapter 5!' height = 200>"
   ],
   "cell_type": "markdown",
   "metadata": {}
  },
  {
   "source": [
    "# Dictionary\n",
    "Unordered collection which stores Key - Value Pairs that map immutable keys to values.\n",
    "- Does not support slicing\n",
    "\n",
    "Set - Unordered collection of unique immutable elements\n"
   ],
   "cell_type": "markdown",
   "metadata": {}
  },
  {
   "source": [
    "# 6.2 Dictionaries\n",
    "- Associates keys with values\n",
    "- Each key maps to a specific values\n",
    "- Dictionary keys must be immutable and unique\n",
    "- Multiple keys can have the same value"
   ],
   "cell_type": "markdown",
   "metadata": {}
  },
  {
   "source": [
    "# Creating a dictionary\n",
    "<code>{}</code> curly brackets create a dictionary\n",
    "- Key: Value\n",
    "- Empty dictionary = {}"
   ],
   "cell_type": "markdown",
   "metadata": {}
  },
  {
   "cell_type": "code",
   "execution_count": 2,
   "metadata": {},
   "outputs": [
    {
     "output_type": "execute_result",
     "data": {
      "text/plain": [
       "{'Finland': 'fi', 'South Africa': 'za', 'Nepal': 'np'}"
      ]
     },
     "metadata": {},
     "execution_count": 2
    }
   ],
   "source": [
    "country_codes = {'Finland': 'fi', 'South Africa': 'za', 'Nepal': 'np'}\n",
    "country_codes"
   ]
  },
  {
   "cell_type": "code",
   "execution_count": 3,
   "metadata": {},
   "outputs": [
    {
     "output_type": "execute_result",
     "data": {
      "text/plain": [
       "3"
      ]
     },
     "metadata": {},
     "execution_count": 3
    }
   ],
   "source": [
    "# Check the number of Key-values\n",
    "len(country_codes)"
   ]
  },
  {
   "cell_type": "code",
   "execution_count": 4,
   "metadata": {},
   "outputs": [
    {
     "output_type": "stream",
     "name": "stdout",
     "text": [
      "Stuff in here\n"
     ]
    }
   ],
   "source": [
    "# Boolean to check if country codes dictionary is empty\n",
    "if country_codes:\n",
    "    print('Stuff in here')\n",
    "else:\n",
    "    print('Nothing here bub')"
   ]
  },
  {
   "source": [
    "# Iterating through a Dictionary"
   ],
   "cell_type": "markdown",
   "metadata": {}
  },
  {
   "cell_type": "code",
   "execution_count": 6,
   "metadata": {},
   "outputs": [
    {
     "output_type": "execute_result",
     "data": {
      "text/plain": [
       "{'January': 31, 'February': 28, 'March': 31}"
      ]
     },
     "metadata": {},
     "execution_count": 6
    }
   ],
   "source": [
    "days_month = {'January': 31, 'February': 28, 'March': 31}\n",
    "days_month"
   ]
  },
  {
   "cell_type": "code",
   "execution_count": 8,
   "metadata": {},
   "outputs": [
    {
     "output_type": "stream",
     "name": "stdout",
     "text": [
      "January\nFebruary\nMarch\n"
     ]
    }
   ],
   "source": [
    "for key in days_month:\n",
    "    print(key)"
   ]
  },
  {
   "source": [
    "# items\n",
    "        .items()\n",
    "returns a value pair as a tuple"
   ],
   "cell_type": "markdown",
   "metadata": {}
  },
  {
   "cell_type": "code",
   "execution_count": 10,
   "metadata": {},
   "outputs": [
    {
     "output_type": "stream",
     "name": "stdout",
     "text": [
      "January 31\nFebruary 28\nMarch 31\n"
     ]
    }
   ],
   "source": [
    "# Using .items()\n",
    "for key, value in days_month.items():\n",
    "    print(key, value)"
   ]
  },
  {
   "cell_type": "code",
   "execution_count": 12,
   "metadata": {},
   "outputs": [
    {
     "output_type": "execute_result",
     "data": {
      "text/plain": [
       "{'I': 1, 'II': 2, 'III': 3, 'IV': 4, 'V': 100}"
      ]
     },
     "metadata": {},
     "execution_count": 12
    }
   ],
   "source": [
    "# Roman Numeral Incorrect\n",
    "roman_numerals = {'I': 1, \"II\": 2, \"III\": 3, \"IV\": 4, \"V\" : 100}\n",
    "roman_numerals"
   ]
  },
  {
   "cell_type": "code",
   "execution_count": 15,
   "metadata": {},
   "outputs": [
    {
     "output_type": "execute_result",
     "data": {
      "text/plain": [
       "100"
      ]
     },
     "metadata": {},
     "execution_count": 15
    }
   ],
   "source": [
    "roman_numerals['V']"
   ]
  },
  {
   "cell_type": "code",
   "execution_count": 21,
   "metadata": {},
   "outputs": [
    {
     "output_type": "execute_result",
     "data": {
      "text/plain": [
       "{'I': 1, 'II': 2, 'III': 3, 'IV': 4, 'VI': 6, 'V': 5}"
      ]
     },
     "metadata": {},
     "execution_count": 21
    }
   ],
   "source": [
    "# Update Value\n",
    "roman_numerals['V'] = 5\n",
    "roman_numerals"
   ]
  },
  {
   "cell_type": "code",
   "execution_count": 22,
   "metadata": {},
   "outputs": [
    {
     "output_type": "execute_result",
     "data": {
      "text/plain": [
       "{'I': 1, 'II': 2, 'III': 3, 'IV': 4, 'VI': 6, 'V': 5}"
      ]
     },
     "metadata": {},
     "execution_count": 22
    }
   ],
   "source": [
    "# Insert Key\n",
    "roman_numerals['VI'] = 6\n",
    "roman_numerals"
   ]
  },
  {
   "cell_type": "code",
   "execution_count": 23,
   "metadata": {},
   "outputs": [
    {
     "output_type": "execute_result",
     "data": {
      "text/plain": [
       "{'I': 1, 'II': 2, 'III': 3, 'IV': 4, 'VI': 6}"
      ]
     },
     "metadata": {},
     "execution_count": 23
    }
   ],
   "source": [
    "# Removing a key\n",
    "del roman_numerals['V']\n",
    "roman_numerals"
   ]
  },
  {
   "cell_type": "code",
   "execution_count": 25,
   "metadata": {},
   "outputs": [
    {
     "output_type": "execute_result",
     "data": {
      "text/plain": [
       "{'I': 1, 'II': 2, 'III': 3, 'IV': 4}"
      ]
     },
     "metadata": {},
     "execution_count": 25
    }
   ],
   "source": [
    "roman_numerals.pop('VI')\n",
    "roman_numerals"
   ]
  },
  {
   "cell_type": "code",
   "execution_count": 28,
   "metadata": {},
   "outputs": [
    {
     "output_type": "error",
     "ename": "KeyError",
     "evalue": "'VI'",
     "traceback": [
      "\u001b[1;31m---------------------------------------------------------------------------\u001b[0m",
      "\u001b[1;31mKeyError\u001b[0m                                  Traceback (most recent call last)",
      "\u001b[1;32m<ipython-input-28-d779e50af6b6>\u001b[0m in \u001b[0;36m<module>\u001b[1;34m\u001b[0m\n\u001b[0;32m      1\u001b[0m \u001b[1;31m# Accessing keys not in Dictionary\u001b[0m\u001b[1;33m\u001b[0m\u001b[1;33m\u001b[0m\u001b[1;33m\u001b[0m\u001b[0m\n\u001b[1;32m----> 2\u001b[1;33m \u001b[0mroman_numerals\u001b[0m\u001b[1;33m[\u001b[0m\u001b[1;34m'VI'\u001b[0m\u001b[1;33m]\u001b[0m\u001b[1;33m\u001b[0m\u001b[1;33m\u001b[0m\u001b[0m\n\u001b[0m",
      "\u001b[1;31mKeyError\u001b[0m: 'VI'"
     ]
    }
   ],
   "source": [
    "# Accessing keys not in Dictionary\n",
    "roman_numerals['VI']"
   ]
  },
  {
   "cell_type": "code",
   "execution_count": 36,
   "metadata": {},
   "outputs": [],
   "source": [
    "# Avoid errors from retrieving keys if not found\n",
    "roman_numerals.get('V')"
   ]
  },
  {
   "cell_type": "code",
   "execution_count": 37,
   "metadata": {},
   "outputs": [
    {
     "output_type": "execute_result",
     "data": {
      "text/plain": [
       "'Not in Dictionary'"
      ]
     },
     "metadata": {},
     "execution_count": 37
    }
   ],
   "source": [
    "roman_numerals.get('V','Not in Dictionary')"
   ]
  },
  {
   "cell_type": "code",
   "execution_count": 38,
   "metadata": {},
   "outputs": [
    {
     "output_type": "execute_result",
     "data": {
      "text/plain": [
       "3"
      ]
     },
     "metadata": {},
     "execution_count": 38
    }
   ],
   "source": [
    "roman_numerals.get('III')"
   ]
  },
  {
   "cell_type": "code",
   "execution_count": 39,
   "metadata": {},
   "outputs": [
    {
     "output_type": "execute_result",
     "data": {
      "text/plain": [
       "True"
      ]
     },
     "metadata": {},
     "execution_count": 39
    }
   ],
   "source": [
    "'III' in roman_numerals"
   ]
  },
  {
   "cell_type": "code",
   "execution_count": 40,
   "metadata": {},
   "outputs": [
    {
     "output_type": "execute_result",
     "data": {
      "text/plain": [
       "False"
      ]
     },
     "metadata": {},
     "execution_count": 40
    }
   ],
   "source": [
    "'V' in roman_numerals"
   ]
  },
  {
   "cell_type": "code",
   "execution_count": 46,
   "metadata": {},
   "outputs": [
    {
     "output_type": "stream",
     "name": "stdout",
     "text": [
      "January\nFebruary\nMarch\n"
     ]
    }
   ],
   "source": [
    "# Use keys()...You don't actually need to use keys\n",
    "for month in days_month.keys():\n",
    "    print(month)"
   ]
  },
  {
   "cell_type": "code",
   "execution_count": 47,
   "metadata": {},
   "outputs": [
    {
     "output_type": "stream",
     "name": "stdout",
     "text": [
      "31\n28\n31\n"
     ]
    }
   ],
   "source": [
    "# Use values()\n",
    "for day in days_month.values():\n",
    "    print(day)"
   ]
  },
  {
   "source": [
    "# Dictionary Views\n",
    "- Views do not make a copy of the data\n",
    "- Views references original data\n",
    "- Do not modify a Dictionary while iterating through a view. (RuntimeError)"
   ],
   "cell_type": "markdown",
   "metadata": {}
  },
  {
   "cell_type": "code",
   "execution_count": 48,
   "metadata": {},
   "outputs": [
    {
     "output_type": "stream",
     "name": "stdout",
     "text": [
      "January February March "
     ]
    }
   ],
   "source": [
    "months_view = days_month.keys()\n",
    "\n",
    "for key in months_view:\n",
    "    print(key, end=' ')"
   ]
  },
  {
   "cell_type": "code",
   "execution_count": 50,
   "metadata": {},
   "outputs": [
    {
     "output_type": "execute_result",
     "data": {
      "text/plain": [
       "{'January': 31, 'February': 28, 'March': 31, 'December': 12}"
      ]
     },
     "metadata": {},
     "execution_count": 50
    }
   ],
   "source": [
    "days_month['December'] = 12\n",
    "days_month"
   ]
  },
  {
   "cell_type": "code",
   "execution_count": 51,
   "metadata": {},
   "outputs": [
    {
     "output_type": "stream",
     "name": "stdout",
     "text": [
      "January February March December "
     ]
    }
   ],
   "source": [
    "# Notice how DECEMBER shows up!!!\n",
    "for key in months_view:\n",
    "    print(key, end=' ')"
   ]
  },
  {
   "source": [
    "# Dictionary Comparisons\n",
    "        ==\n",
    "        !=\n",
    "You can compare dictionaries to get boolean values"
   ],
   "cell_type": "markdown",
   "metadata": {}
  },
  {
   "source": [
    "# Python Counter from Collections Library"
   ],
   "cell_type": "markdown",
   "metadata": {}
  },
  {
   "cell_type": "code",
   "execution_count": 52,
   "metadata": {},
   "outputs": [],
   "source": [
    "from collections import Counter"
   ]
  },
  {
   "cell_type": "code",
   "execution_count": 55,
   "metadata": {},
   "outputs": [
    {
     "output_type": "execute_result",
     "data": {
      "text/plain": [
       "'This is a sample text, what the heck This is more text to throw you off'"
      ]
     },
     "metadata": {},
     "execution_count": 55
    }
   ],
   "source": [
    "text = ('This is a sample text, what the heck'' This is more text to throw you off')\n",
    "text"
   ]
  },
  {
   "cell_type": "code",
   "execution_count": 63,
   "metadata": {},
   "outputs": [
    {
     "output_type": "execute_result",
     "data": {
      "text/plain": [
       "Counter({'This': 2,\n",
       "         'is': 2,\n",
       "         'a': 1,\n",
       "         'sample': 1,\n",
       "         'text,': 1,\n",
       "         'what': 1,\n",
       "         'the': 1,\n",
       "         'heck': 1,\n",
       "         'more': 1,\n",
       "         'text': 1,\n",
       "         'to': 1,\n",
       "         'throw': 1,\n",
       "         'you': 1,\n",
       "         'off': 1})"
      ]
     },
     "metadata": {},
     "execution_count": 63
    }
   ],
   "source": [
    "counter = Counter(text.split())\n",
    "counter"
   ]
  },
  {
   "cell_type": "code",
   "execution_count": 62,
   "metadata": {},
   "outputs": [
    {
     "output_type": "stream",
     "name": "stdout",
     "text": [
      "This       2\na          1\nheck       1\nis         2\nmore       1\noff        1\nsample     1\ntext       1\ntext,      1\nthe        1\nthrow      1\nto         1\nwhat       1\nyou        1\n"
     ]
    }
   ],
   "source": [
    "for word, count in sorted(counter.items()):\n",
    "    print(f'{word:<10} {count}')"
   ]
  },
  {
   "cell_type": "code",
   "execution_count": 64,
   "metadata": {},
   "outputs": [
    {
     "output_type": "execute_result",
     "data": {
      "text/plain": [
       "Counter({'This': 2,\n",
       "         'is': 2,\n",
       "         'a': 1,\n",
       "         'sample': 1,\n",
       "         'text,': 1,\n",
       "         'what': 1,\n",
       "         'the': 1,\n",
       "         'heck': 1,\n",
       "         'more': 1,\n",
       "         'text': 1,\n",
       "         'to': 1,\n",
       "         'throw': 1,\n",
       "         'you': 1,\n",
       "         'off': 1})"
      ]
     },
     "metadata": {},
     "execution_count": 64
    }
   ],
   "source": [
    "counter"
   ]
  },
  {
   "source": [
    "# Dictionary Method \n",
    "        .update()\n",
    "- Can convert key arguments into key-value pairs to insert."
   ],
   "cell_type": "markdown",
   "metadata": {}
  },
  {
   "cell_type": "code",
   "execution_count": 69,
   "metadata": {},
   "outputs": [],
   "source": [
    "country_codes = {}"
   ]
  },
  {
   "cell_type": "code",
   "execution_count": 70,
   "metadata": {},
   "outputs": [
    {
     "output_type": "execute_result",
     "data": {
      "text/plain": [
       "{'South Africa': 'za'}"
      ]
     },
     "metadata": {},
     "execution_count": 70
    }
   ],
   "source": [
    "country_codes.update({'South Africa': 'za'})\n",
    "country_codes"
   ]
  },
  {
   "cell_type": "code",
   "execution_count": 72,
   "metadata": {},
   "outputs": [
    {
     "output_type": "execute_result",
     "data": {
      "text/plain": [
       "{'South Africa': 'za', 'Australia': 'au'}"
      ]
     },
     "metadata": {},
     "execution_count": 72
    }
   ],
   "source": [
    "country_codes.update(Australia='au')\n",
    "country_codes"
   ]
  },
  {
   "source": [
    "# Dictionary Comprehensions"
   ],
   "cell_type": "markdown",
   "metadata": {}
  },
  {
   "cell_type": "code",
   "execution_count": 76,
   "metadata": {},
   "outputs": [
    {
     "output_type": "execute_result",
     "data": {
      "text/plain": [
       "{31: 'March', 28: 'February', 12: 'December'}"
      ]
     },
     "metadata": {},
     "execution_count": 76
    }
   ],
   "source": [
    "days_month = {'January': 31, 'February': 28, 'March': 31, 'December': 12}\n",
    "days_month_2 = {number: name for name, number in days_month.items()}\n",
    "days_month_2"
   ]
  },
  {
   "cell_type": "code",
   "execution_count": 79,
   "metadata": {},
   "outputs": [
    {
     "output_type": "execute_result",
     "data": {
      "text/plain": [
       "{'Sue': 92.67, 'Moy': 96.67}"
      ]
     },
     "metadata": {},
     "execution_count": 79
    }
   ],
   "source": [
    "grades = {'Sue': [98, 87, 93], 'Moy': [99, 95, 96]}\n",
    "grades_2 = {k: round(sum(v)/len(v),2) for k, v in grades.items()}\n",
    "grades_2"
   ]
  },
  {
   "source": [
    "# Sets\n",
    "Unordered collection of unique values\n",
    "- Contains only immutable objects\n",
    "- Iterable, but do NOT support indexing or slicing"
   ],
   "cell_type": "markdown",
   "metadata": {}
  },
  {
   "cell_type": "code",
   "execution_count": 2,
   "metadata": {},
   "outputs": [
    {
     "output_type": "execute_result",
     "data": {
      "text/plain": [
       "{'blue', 'green', 'orange', 'red', 'yellow'}"
      ]
     },
     "metadata": {},
     "execution_count": 2
    }
   ],
   "source": [
    "# Creating a set\n",
    "# Dups are ignored\n",
    "colors = {'red', 'orange', 'yellow', 'green', 'red', 'blue'}\n",
    "colors"
   ]
  },
  {
   "cell_type": "code",
   "execution_count": 10,
   "metadata": {},
   "outputs": [
    {
     "output_type": "stream",
     "name": "stdout",
     "text": [
      "Red Inside: True\nViolet Inside: False\n"
     ]
    }
   ],
   "source": [
    "print(f'Red Inside: {\"red\" in colors}')\n",
    "print(f'Violet Inside: {\"violet\" in colors}')"
   ]
  },
  {
   "source": [
    "# Built in set function\n",
    "        set()\n",
    "        empty_set = set({})"
   ],
   "cell_type": "markdown",
   "metadata": {}
  },
  {
   "cell_type": "code",
   "execution_count": 20,
   "metadata": {},
   "outputs": [
    {
     "output_type": "execute_result",
     "data": {
      "text/plain": [
       "{1, 2, 3, 4, 5, 6}"
      ]
     },
     "metadata": {},
     "execution_count": 20
    }
   ],
   "source": [
    "numbers = set([1, 2, 3, 3, 3, 4, 5, 6])\n",
    "numbers"
   ]
  },
  {
   "source": [
    "# Frozenset and More on Sets\n",
    "- Sets are mutable (Can add or remove elements)\n",
    "- Set elements must be immutable\n",
    "- Sets cannot have other sets as elements\n",
    "- Sets can have frozenset elements\n",
    "\n",
    "        frozenset()\n",
    "- Frozenset is an immutable set, cannot be modified after created"
   ],
   "cell_type": "markdown",
   "metadata": {}
  },
  {
   "source": [
    "# Operands\n",
    "< tests whether the set on the left is a subset of the set on the right, but not equal to"
   ],
   "cell_type": "markdown",
   "metadata": {}
  },
  {
   "cell_type": "code",
   "execution_count": 22,
   "metadata": {},
   "outputs": [
    {
     "output_type": "execute_result",
     "data": {
      "text/plain": [
       "False"
      ]
     },
     "metadata": {},
     "execution_count": 22
    }
   ],
   "source": [
    "{1, 2, 3} < {3, 2, 1}"
   ]
  },
  {
   "cell_type": "code",
   "execution_count": 23,
   "metadata": {},
   "outputs": [
    {
     "output_type": "execute_result",
     "data": {
      "text/plain": [
       "True"
      ]
     },
     "metadata": {},
     "execution_count": 23
    }
   ],
   "source": [
    "{1, 2, 3} < {1, 2, 3, 4}"
   ]
  },
  {
   "source": [
    "# Improper Subsets\n",
    "        <="
   ],
   "cell_type": "markdown",
   "metadata": {}
  },
  {
   "cell_type": "code",
   "execution_count": 25,
   "metadata": {},
   "outputs": [
    {
     "output_type": "execute_result",
     "data": {
      "text/plain": [
       "True"
      ]
     },
     "metadata": {},
     "execution_count": 25
    }
   ],
   "source": [
    "{1, 2, 3} <= {1, 2, 3}"
   ]
  },
  {
   "cell_type": "code",
   "execution_count": 28,
   "metadata": {},
   "outputs": [
    {
     "output_type": "execute_result",
     "data": {
      "text/plain": [
       "True"
      ]
     },
     "metadata": {},
     "execution_count": 28
    }
   ],
   "source": [
    "{1, 2} <= {1, 2, 3}"
   ]
  },
  {
   "source": [
    "# Mathematical Set Operations\n",
    "Operaters used: |, &, ^, -"
   ],
   "cell_type": "markdown",
   "metadata": {}
  },
  {
   "cell_type": "code",
   "execution_count": 29,
   "metadata": {},
   "outputs": [
    {
     "output_type": "execute_result",
     "data": {
      "text/plain": [
       "{1, 2, 3, 4, 5}"
      ]
     },
     "metadata": {},
     "execution_count": 29
    }
   ],
   "source": [
    "# Union\n",
    "{1, 3, 5} | {2, 3, 4}"
   ]
  },
  {
   "cell_type": "code",
   "execution_count": 30,
   "metadata": {},
   "outputs": [
    {
     "output_type": "execute_result",
     "data": {
      "text/plain": [
       "{1, 2, 3, 4, 5}"
      ]
     },
     "metadata": {},
     "execution_count": 30
    }
   ],
   "source": [
    "{1, 3, 5}.union({2, 3, 4})"
   ]
  },
  {
   "cell_type": "code",
   "execution_count": 31,
   "metadata": {},
   "outputs": [
    {
     "output_type": "execute_result",
     "data": {
      "text/plain": [
       "{3}"
      ]
     },
     "metadata": {},
     "execution_count": 31
    }
   ],
   "source": [
    "# Intersection\n",
    "{1, 3, 5} & {2, 3, 4}"
   ]
  },
  {
   "cell_type": "code",
   "execution_count": 33,
   "metadata": {},
   "outputs": [
    {
     "output_type": "execute_result",
     "data": {
      "text/plain": [
       "{1}"
      ]
     },
     "metadata": {},
     "execution_count": 33
    }
   ],
   "source": [
    "{1, 3, 5}.intersection([1, 1, 1, 2, 2, 2, 4, 4])"
   ]
  },
  {
   "cell_type": "code",
   "execution_count": 35,
   "metadata": {},
   "outputs": [
    {
     "output_type": "execute_result",
     "data": {
      "text/plain": [
       "{1, 5}"
      ]
     },
     "metadata": {},
     "execution_count": 35
    }
   ],
   "source": [
    "# Difference\n",
    "{1, 3, 5} - {2, 3, 4}"
   ]
  },
  {
   "cell_type": "code",
   "execution_count": 37,
   "metadata": {},
   "outputs": [
    {
     "output_type": "execute_result",
     "data": {
      "text/plain": [
       "{3}"
      ]
     },
     "metadata": {},
     "execution_count": 37
    }
   ],
   "source": [
    "{1, 3, 5}.difference([1, 1, 5, 5, 6, 7, 8])"
   ]
  },
  {
   "cell_type": "code",
   "execution_count": 39,
   "metadata": {},
   "outputs": [
    {
     "output_type": "execute_result",
     "data": {
      "text/plain": [
       "{1, 2, 4, 5}"
      ]
     },
     "metadata": {},
     "execution_count": 39
    }
   ],
   "source": [
    "# Symmetric Difference\n",
    "# Not common with each other\n",
    "{1, 3, 5} ^ {2, 3, 4}"
   ]
  },
  {
   "cell_type": "code",
   "execution_count": 41,
   "metadata": {},
   "outputs": [
    {
     "output_type": "execute_result",
     "data": {
      "text/plain": [
       "{2, 3, 4, 6}"
      ]
     },
     "metadata": {},
     "execution_count": 41
    }
   ],
   "source": [
    "{1, 3, 5}.symmetric_difference([1, 1, 2, 4, 4, 5, 6])"
   ]
  },
  {
   "cell_type": "code",
   "execution_count": 43,
   "metadata": {},
   "outputs": [
    {
     "output_type": "execute_result",
     "data": {
      "text/plain": [
       "True"
      ]
     },
     "metadata": {},
     "execution_count": 43
    }
   ],
   "source": [
    "# Disjoint\n",
    "# Nothing in common\n",
    "{1, 3, 5}.isdisjoint({2, 4, 6})"
   ]
  },
  {
   "cell_type": "code",
   "execution_count": 45,
   "metadata": {},
   "outputs": [
    {
     "output_type": "execute_result",
     "data": {
      "text/plain": [
       "False"
      ]
     },
     "metadata": {},
     "execution_count": 45
    }
   ],
   "source": [
    "{1, 3, 5}.isdisjoint({1, 4, 6})"
   ]
  },
  {
   "source": [
    "# Mutable Mathematical Set Operations"
   ],
   "cell_type": "markdown",
   "metadata": {}
  },
  {
   "cell_type": "code",
   "execution_count": 57,
   "metadata": {},
   "outputs": [
    {
     "output_type": "execute_result",
     "data": {
      "text/plain": [
       "{1, 2, 3, 4}"
      ]
     },
     "metadata": {},
     "execution_count": 57
    }
   ],
   "source": [
    "numbers = {1, 2, 3}\n",
    "numbers |= {2, 3, 4}\n",
    "numbers"
   ]
  },
  {
   "cell_type": "code",
   "execution_count": 58,
   "metadata": {},
   "outputs": [
    {
     "output_type": "execute_result",
     "data": {
      "text/plain": [
       "{0, 1, 2, 3, 4, 5, 6, 7, 8, 9}"
      ]
     },
     "metadata": {},
     "execution_count": 58
    }
   ],
   "source": [
    "# Update method\n",
    "numbers.update(range(10))\n",
    "numbers"
   ]
  },
  {
   "source": [
    "Other corresponding methods\n",
    "\n",
    "        intersection_update\n",
    "        difference_update\n",
    "        symmetric_difference_update"
   ],
   "cell_type": "markdown",
   "metadata": {}
  },
  {
   "cell_type": "code",
   "execution_count": 59,
   "metadata": {},
   "outputs": [
    {
     "output_type": "execute_result",
     "data": {
      "text/plain": [
       "{0, 1, 2, 3, 4, 5, 6, 7, 8, 9, 17}"
      ]
     },
     "metadata": {},
     "execution_count": 59
    }
   ],
   "source": [
    "# Method to add\n",
    "numbers.add(17)\n",
    "numbers"
   ]
  },
  {
   "cell_type": "code",
   "execution_count": 60,
   "metadata": {},
   "outputs": [
    {
     "output_type": "execute_result",
     "data": {
      "text/plain": [
       "{0, 1, 2, 4, 5, 6, 7, 8, 9, 17}"
      ]
     },
     "metadata": {},
     "execution_count": 60
    }
   ],
   "source": [
    "# Method to remove\n",
    "numbers.remove(3)\n",
    "numbers"
   ]
  },
  {
   "cell_type": "code",
   "execution_count": 61,
   "metadata": {},
   "outputs": [
    {
     "output_type": "execute_result",
     "data": {
      "text/plain": [
       "{0, 1, 2, 4, 5, 6, 7, 8, 9, 17}"
      ]
     },
     "metadata": {},
     "execution_count": 61
    }
   ],
   "source": [
    "# Discard removes as well, but does not cause an exception if element is not there.\n",
    "numbers.discard(3)\n",
    "numbers"
   ]
  },
  {
   "cell_type": "code",
   "execution_count": 62,
   "metadata": {},
   "outputs": [
    {
     "output_type": "stream",
     "name": "stdout",
     "text": [
      "0 {1, 2, 4, 5, 6, 7, 8, 9, 17}\n"
     ]
    }
   ],
   "source": [
    "# Pop() also removes an item\n",
    "x = numbers.pop()\n",
    "print(x, numbers)"
   ]
  },
  {
   "cell_type": "code",
   "execution_count": 64,
   "metadata": {},
   "outputs": [
    {
     "output_type": "execute_result",
     "data": {
      "text/plain": [
       "set()"
      ]
     },
     "metadata": {},
     "execution_count": 64
    }
   ],
   "source": [
    "# Clear() to empty a set\n",
    "numbers.clear()\n",
    "numbers"
   ]
  },
  {
   "source": [
    "# Set Comprehensions"
   ],
   "cell_type": "markdown",
   "metadata": {}
  },
  {
   "cell_type": "code",
   "execution_count": 71,
   "metadata": {},
   "outputs": [],
   "source": [
    "numbers = [x for x in range(20)] + [x for x in range(15,26)]\n",
    "evens = {item for item in numbers if item % 2 == 0}"
   ]
  },
  {
   "cell_type": "code",
   "execution_count": 73,
   "metadata": {},
   "outputs": [
    {
     "output_type": "execute_result",
     "data": {
      "text/plain": [
       "{0, 2, 4, 6, 8, 10, 12, 14, 16, 18, 20, 22, 24}"
      ]
     },
     "metadata": {},
     "execution_count": 73
    }
   ],
   "source": [
    "evens"
   ]
  },
  {
   "source": [
    "# 6.4 Intro to Data Science : Dynamic Visualizations"
   ],
   "cell_type": "markdown",
   "metadata": {}
  },
  {
   "source": [
    "# Matplotlib\n",
    "Modules\n",
    "\n",
    "        animation\n",
    "        FuncAnimation"
   ],
   "cell_type": "markdown",
   "metadata": {}
  },
  {
   "source": [
    "# FuncAnimation\n",
    "Drives a fram by frame animation. Each animation fram specifies everything that should change during one plot update."
   ],
   "cell_type": "markdown",
   "metadata": {}
  },
  {
   "cell_type": "code",
   "execution_count": 76,
   "metadata": {},
   "outputs": [],
   "source": [
    "# Imports\n",
    "from matplotlib import animation\n",
    "import matplotlib.pyplot as plt \n",
    "import random\n",
    "import seaborn as sns\n",
    "import sys"
   ]
  },
  {
   "cell_type": "code",
   "execution_count": 156,
   "metadata": {},
   "outputs": [
    {
     "output_type": "error",
     "ename": "ValueError",
     "evalue": "invalid literal for int() with base 10: '--ip=127.0.0.1'",
     "traceback": [
      "\u001b[1;31m---------------------------------------------------------------------------\u001b[0m",
      "\u001b[1;31mValueError\u001b[0m                                Traceback (most recent call last)",
      "\u001b[1;32m<ipython-input-156-8515dcb63453>\u001b[0m in \u001b[0;36m<module>\u001b[1;34m\u001b[0m\n\u001b[0;32m     21\u001b[0m \u001b[1;33m\u001b[0m\u001b[0m\n\u001b[0;32m     22\u001b[0m \u001b[1;31m# Read command-line arguments for number of frames and rolls per frame\u001b[0m\u001b[1;33m\u001b[0m\u001b[1;33m\u001b[0m\u001b[1;33m\u001b[0m\u001b[0m\n\u001b[1;32m---> 23\u001b[1;33m \u001b[0mnumber_of_frames\u001b[0m \u001b[1;33m=\u001b[0m \u001b[0mint\u001b[0m\u001b[1;33m(\u001b[0m\u001b[0msys\u001b[0m\u001b[1;33m.\u001b[0m\u001b[0margv\u001b[0m\u001b[1;33m[\u001b[0m\u001b[1;36m1\u001b[0m\u001b[1;33m]\u001b[0m\u001b[1;33m)\u001b[0m\u001b[1;33m\u001b[0m\u001b[1;33m\u001b[0m\u001b[0m\n\u001b[0m\u001b[0;32m     24\u001b[0m \u001b[0mrolls_per_frame\u001b[0m \u001b[1;33m=\u001b[0m \u001b[0mint\u001b[0m\u001b[1;33m(\u001b[0m\u001b[0msys\u001b[0m\u001b[1;33m.\u001b[0m\u001b[0margv\u001b[0m\u001b[1;33m[\u001b[0m\u001b[1;36m2\u001b[0m\u001b[1;33m]\u001b[0m\u001b[1;33m)\u001b[0m\u001b[1;33m\u001b[0m\u001b[1;33m\u001b[0m\u001b[0m\n\u001b[0;32m     25\u001b[0m \u001b[0mprint\u001b[0m\u001b[1;33m(\u001b[0m\u001b[0mnumber_of_frames\u001b[0m\u001b[1;33m,\u001b[0m\u001b[0mrolls_per_frame\u001b[0m\u001b[1;33m)\u001b[0m\u001b[1;33m\u001b[0m\u001b[1;33m\u001b[0m\u001b[0m\n",
      "\u001b[1;31mValueError\u001b[0m: invalid literal for int() with base 10: '--ip=127.0.0.1'"
     ]
    }
   ],
   "source": [
    "def update(frame_number, rolls, faces, frequencies):\n",
    "    \"\"\"Configures bar plot contents for each animation frame\"\"\"\n",
    "    \n",
    "    # Roll die and update frequencies\n",
    "    for i in range(rolls):\n",
    "        frequencies[random.randrange(1,7)-1] += 1\n",
    "\n",
    "    # Reconfigure plot for updated die frequencies\n",
    "    plt.cla() # Clears old contents of previous axis\n",
    "    axes = sns.barplot(faces, frequencies, palette='bright') # New barplot\n",
    "    axes.set_title(f'Die Frequencies for {sum(frequencies):,} Rolls')\n",
    "    axes.set(xlabel='Die Value', ylabel='Frequency')\n",
    "    axes.set_ylim(top=max(frequencies) * 1.10) # 10 % buffer to show in graph\n",
    "\n",
    "    # Display frequency & percentage above each patch (bar)\n",
    "    for bar, frequency in zip(axes.patches, frequencies):\n",
    "        text_x = bar.getx() + bar.get_width() / 2.0\n",
    "        text_y = bar.get_height()\n",
    "        text = f'{frequency:,}\\n{frequency / sum(frequencies): .3%}'\n",
    "        axes.text(text_x, text_y, text, ha='center', va='bottom')\n",
    "    \n",
    "# Read command-line arguments for number of frames and rolls per frame\n",
    "number_of_frames = int(sys.argv[1])\n",
    "rolls_per_frame = int(sys.argv[2])\n",
    "print(number_of_frames,rolls_per_frame)\n",
    "\n",
    "sns.set_style('whitegrid')\n",
    "figure = plt.figure('Rooling a Six-Sided Die') # Figure for animation\n",
    "values = list(range(1,7)) # Die faces\n",
    "frequencies = [0] * 6 # 6 element list of die frequencies\n",
    "\n",
    "# Configure and start animation that calls function update\n",
    "die_animation = animation.FuncAnimation(figure, update, repeat=False, frames=number_of_frames, interval=33,\n",
    "fargs=(rolls_per_frame, values, frequencies))\n",
    "\n",
    "plt.show() # Displays window"
   ]
  }
 ]
}