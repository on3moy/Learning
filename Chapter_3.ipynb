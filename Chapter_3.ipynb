{
 "metadata": {
  "language_info": {
   "codemirror_mode": {
    "name": "ipython",
    "version": 3
   },
   "file_extension": ".py",
   "mimetype": "text/x-python",
   "name": "python",
   "nbconvert_exporter": "python",
   "pygments_lexer": "ipython3",
   "version": "3.8.5-final"
  },
  "orig_nbformat": 2,
  "kernelspec": {
   "name": "python_defaultSpec_1600556062171",
   "display_name": "Python 3.8.5 64-bit"
  }
 },
 "nbformat": 4,
 "nbformat_minor": 2,
 "cells": [
  {
   "source": [
    "# Chapter 3\n",
    "<img src='https://i.pinimg.com/originals/b0/87/53/b08753d58f327fe00490bb5cfa7fcf03.gif'/>"
   ],
   "cell_type": "markdown",
   "metadata": {}
  },
  {
   "cell_type": "code",
   "execution_count": 40,
   "metadata": {
    "tags": []
   },
   "outputs": [
    {
     "output_type": "stream",
     "name": "stdout",
     "text": "F  o  r  e  v  e  r  N  o  o  b  \n\nForeverNoob---ForeverNoob\n"
    }
   ],
   "source": [
    "# Print letters with space seperation\n",
    "word = 'ForeverNoob'\n",
    "for letter in word:\n",
    "    print(letter,end='  ')\n",
    "\n",
    "# Add space between prints\n",
    "print('\\n')\n",
    "\n",
    "# Add seperator between prints\n",
    "print(word,word,sep='---')"
   ]
  }
 ]
}