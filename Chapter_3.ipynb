{
 "metadata": {
  "language_info": {
   "codemirror_mode": {
    "name": "ipython",
    "version": 3
   },
   "file_extension": ".py",
   "mimetype": "text/x-python",
   "name": "python",
   "nbconvert_exporter": "python",
   "pygments_lexer": "ipython3",
   "version": "3.8.5-final"
  },
  "orig_nbformat": 2,
  "kernelspec": {
   "name": "python_defaultSpec_1600617968677",
   "display_name": "Python 3.8.5 64-bit"
  }
 },
 "nbformat": 4,
 "nbformat_minor": 2,
 "cells": [
  {
   "source": [
    "# Chapter 3\n",
    "<img src='https://ap-kids.com/wp-content/uploads/2018/12/pusheen-computer-animation.gif'/>"
   ],
   "cell_type": "markdown",
   "metadata": {}
  },
  {
   "source": [
    "# Prints()"
   ],
   "cell_type": "markdown",
   "metadata": {}
  },
  {
   "cell_type": "code",
   "execution_count": 47,
   "metadata": {
    "tags": []
   },
   "outputs": [
    {
     "output_type": "stream",
     "name": "stdout",
     "text": "F  o  r  e  v  e  r  N  o  o  b  \n\nForeverNoob---ForeverNoob\nForeverNoob ForeverNoob---"
    }
   ],
   "source": [
    "# Print letters with space seperation\n",
    "# This only works with for loops\n",
    "word = 'ForeverNoob'\n",
    "for letter in word:\n",
    "    print(letter,end='  ')\n",
    "\n",
    "# Add space between prints\n",
    "print('\\n')\n",
    "\n",
    "# Add seperator between prints\n",
    "print(word,word,sep='---')\n",
    "\n",
    "# No seperation with end on normal prints\n",
    "print(word,word,end='---')"
   ]
  },
  {
   "source": [
    "# Range\n",
    "range does NOT include inputted number"
   ],
   "cell_type": "markdown",
   "metadata": {}
  },
  {
   "cell_type": "code",
   "execution_count": 70,
   "metadata": {
    "tags": []
   },
   "outputs": [
    {
     "output_type": "stream",
     "name": "stdout",
     "text": "range(10)\n0 1 2 3 4 5 6 7 8 9 \n\nrange(5,10)\n5 6 7 8 9"
    }
   ],
   "source": [
    "# Range starts at 0 if not specified\n",
    "print('range(10)')\n",
    "for num in range(10):\n",
    "    print(num, end=' ')\n",
    "\n",
    "# Seperator \\n\n",
    "print('\\n')\n",
    "\n",
    "# Specifies start off point\n",
    "print('range(5,10)')\n",
    "for num in range(5,10):\n",
    "    print(num,end=' ')"
   ]
  },
  {
   "source": [
    "# Augmented Assignments\n",
    "<img src='images/Augmented_assignments.png'/>"
   ],
   "cell_type": "markdown",
   "metadata": {}
  },
  {
   "cell_type": "code",
   "execution_count": 1,
   "metadata": {
    "tags": []
   },
   "outputs": [
    {
     "output_type": "stream",
     "name": "stdout",
     "text": "x: 10 \n y: 20\nTotal = x + y: 30\n\n\ntotal = total + x:\ntotal += x: 40\n"
    }
   ],
   "source": [
    "# Augmented assignement example\n",
    "\n",
    "# Variable Assignment\n",
    "x = 10\n",
    "y = 20\n",
    "print('x:',10,'\\n','y:',20)\n",
    "\n",
    "# Add variables\n",
    "total = x + y\n",
    "print('Total = x + y:',total)\n",
    "\n",
    "# Seperator\n",
    "print('\\n')\n",
    "\n",
    "# Augmented Assignment\n",
    "total += x\n",
    "print('total = total + x:')\n",
    "print('total += x:', total)"
   ]
  },
  {
   "cell_type": "code",
   "execution_count": 7,
   "metadata": {
    "tags": []
   },
   "outputs": [
    {
     "output_type": "stream",
     "name": "stdout",
     "text": "1 2 3 4 5"
    }
   ],
   "source": [
    "# Iterate through a list\n",
    "for num in [1,2,3,4,5]:\n",
    "    # end keyword arguement allows me to print horizontally with chosen seperator\n",
    "    print(num, end = ' ')"
   ]
  },
  {
   "source": [
    "# F Strings\n",
    "f'string {expression}'"
   ],
   "cell_type": "markdown",
   "metadata": {}
  },
  {
   "cell_type": "code",
   "execution_count": 10,
   "metadata": {
    "tags": []
   },
   "outputs": [
    {
     "output_type": "stream",
     "name": "stdout",
     "text": "My name is Moy\n"
    }
   ],
   "source": [
    "# Initilization Phase\n",
    "name = 'Moy'\n",
    "\n",
    "# Processing Phase\n",
    "pp = f'My name is {name}'\n",
    "\n",
    "# Termination Phase\n",
    "print(pp)\n"
   ]
  },
  {
   "source": [
    "# More formatting"
   ],
   "cell_type": "markdown",
   "metadata": {}
  },
  {
   "cell_type": "code",
   "execution_count": 64,
   "metadata": {
    "tags": []
   },
   "outputs": [
    {
     "output_type": "stream",
     "name": "stdout",
     "text": "My name is Moy                 \nMy name is         Moy         \nMy name is                  Moy\nMy name is .................Moy\n\n\nMy number is 13.000000\nMy number is 13.00\nMy number is 13\nMy number is 13.00%\nMy number is 13,000,000.00\n"
    }
   ],
   "source": [
    "# Left Alignment with 20 spaces added before and after { }\n",
    "print(f'My name is {name:<20}')\n",
    "\n",
    "# Center Alignment with 20 spaces added before and after { }\n",
    "print(f'My name is {name:^20}')\n",
    "\n",
    "# Right Alignment with 20 spaces added before and after { }\n",
    "print(f'My name is {name:>20}')\n",
    "\n",
    "# Right Alignment with 10 trailing characters added before and after { }\n",
    "print(f'My name is {name:.>20}')\n",
    "\n",
    "print('\\n')\n",
    "\n",
    "# Integer Format as float\n",
    "print(f'My number is {13:f}')\n",
    "\n",
    "# Integer Format as float 2 decimal places\n",
    "print(f'My number is {13:.2f}')\n",
    "\n",
    "# Integer Format as Digit\n",
    "print(f'My number is {13:d}')\n",
    "\n",
    "# Integer Format as float 2 decimal places in % format\n",
    "print(f'My number is {13/100:.2%}')\n",
    "\n",
    "# Integer Format as float with commas\n",
    "print(f'My number is {13*1000000:,.2f}')"
   ]
  },
  {
   "source": [
    "# 3.11 Program Development: Sentinal-Controlled Repetition"
   ],
   "cell_type": "markdown",
   "metadata": {}
  },
  {
   "cell_type": "code",
   "execution_count": 100,
   "metadata": {
    "tags": []
   },
   "outputs": [
    {
     "output_type": "stream",
     "name": "stdout",
     "text": "Total Number of Grades: 4\nAverage Grade: 97.75\n"
    }
   ],
   "source": [
    "'''Input Grades to get average Grade'''\n",
    "# Assign total value (To add up all grades)\n",
    "total = 0\n",
    "counter = 0\n",
    "\n",
    "# Force user to enter digit only within a range with while loop\n",
    "while True:\n",
    "    # Retrieve input from user\n",
    "    grade = input('Type in Grade From 0-100: ')\n",
    "\n",
    "    # Isdigit returns True or False on string value. If string is a digit -> True\n",
    "    if grade.isdigit():\n",
    "        # If value is within 0-100, break loop\n",
    "        if int(grade)>-1 and int(grade)<101:\n",
    "            # If gradr is a digit and within range, add to total and add 1 to counter\n",
    "            total += int(grade)\n",
    "            counter += 1\n",
    "            # Force user to enter (Y or N) to continue (Sentinal Control)\n",
    "            while True:\n",
    "                stop_input = input('Continue Input?: (Y or N)')\n",
    "                # Isalpha returns True or False if string is within the alphabet\n",
    "                if stop_input.isalpha():\n",
    "                    # Break loop if user inputs y or n\n",
    "                    # .lower ensures output is lowercase (User might type 'Y')\n",
    "                    # 'Y' != 'y'\n",
    "                    if stop_input.lower() == 'y':\n",
    "                        break\n",
    "                    elif stop_input.lower() == 'n':\n",
    "                        break\n",
    "            # Break loop if user is done inputting\n",
    "            if stop_input == 'n':\n",
    "                break\n",
    "# Print Number of Grades and Average\n",
    "print(f'Total Number of Grades: {counter}')\n",
    "print(f'Average Grade: {total/counter}')"
   ]
  }
 ]
}