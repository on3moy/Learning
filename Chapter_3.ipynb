{
 "metadata": {
  "language_info": {
   "codemirror_mode": {
    "name": "ipython",
    "version": 3
   },
   "file_extension": ".py",
   "mimetype": "text/x-python",
   "name": "python",
   "nbconvert_exporter": "python",
   "pygments_lexer": "ipython3",
   "version": "3.8.5-final"
  },
  "orig_nbformat": 2,
  "kernelspec": {
   "name": "Python 3.8.5 64-bit",
   "display_name": "Python 3.8.5 64-bit",
   "metadata": {
    "interpreter": {
     "hash": "1baa965d5efe3ac65b79dfc60c0d706280b1da80fedb7760faf2759126c4f253"
    }
   }
  }
 },
 "nbformat": 4,
 "nbformat_minor": 2,
 "cells": [
  {
   "source": [
    "# Chapter 3 Notes\n",
    "<img src='https://ap-kids.com/wp-content/uploads/2018/12/pusheen-computer-animation.gif' height = 150 title = 'Yassss'/>"
   ],
   "cell_type": "markdown",
   "metadata": {}
  },
  {
   "source": [
    "# Prints()"
   ],
   "cell_type": "markdown",
   "metadata": {}
  },
  {
   "cell_type": "code",
   "execution_count": 47,
   "metadata": {
    "tags": []
   },
   "outputs": [
    {
     "output_type": "stream",
     "name": "stdout",
     "text": "F  o  r  e  v  e  r  N  o  o  b  \n\nForeverNoob---ForeverNoob\nForeverNoob ForeverNoob---"
    }
   ],
   "source": [
    "# Print letters with space seperation\n",
    "# This only works with for loops\n",
    "word = 'ForeverNoob'\n",
    "for letter in word:\n",
    "    print(letter,end='  ')\n",
    "\n",
    "# Add space between prints\n",
    "print('\\n')\n",
    "\n",
    "# Add seperator between prints\n",
    "print(word,word,sep='---')\n",
    "\n",
    "# No seperation with end on normal prints\n",
    "print(word,word,end='---')"
   ]
  },
  {
   "source": [
    "# Range\n",
    "range does NOT include inputted number"
   ],
   "cell_type": "markdown",
   "metadata": {}
  },
  {
   "cell_type": "code",
   "execution_count": 104,
   "metadata": {
    "tags": []
   },
   "outputs": [
    {
     "output_type": "stream",
     "name": "stdout",
     "text": "range(10)\n0 1 2 3 4 5 6 7 8 9 \n\nrange(5,10)\n5 6 7 8 9 \n\nrange(0,10,2)\n0 2 4 6 8"
    }
   ],
   "source": [
    "# Range starts at 0 if not specified\n",
    "print('range(10)')\n",
    "for num in range(10):\n",
    "    print(num, end=' ')\n",
    "\n",
    "# Seperator \\n\n",
    "print('\\n')\n",
    "\n",
    "# Specifies start off point\n",
    "print('range(5,10)')\n",
    "for num in range(5,10):\n",
    "    print(num,end=' ')\n",
    "\n",
    "# Seperator \\n\n",
    "print('\\n')\n",
    "\n",
    "# Specifies to increment by 2\n",
    "print('range(0,10,2)')\n",
    "for num in range(0,10,2):\n",
    "    print(num, end =' ')"
   ]
  },
  {
   "source": [
    "# Augmented Assignments\n",
    "<img src='images/Augmented_assignments.png'/>"
   ],
   "cell_type": "markdown",
   "metadata": {}
  },
  {
   "cell_type": "code",
   "execution_count": 1,
   "metadata": {
    "tags": []
   },
   "outputs": [
    {
     "output_type": "stream",
     "name": "stdout",
     "text": "x: 10 \n y: 20\nTotal = x + y: 30\n\n\ntotal = total + x:\ntotal += x: 40\n"
    }
   ],
   "source": [
    "# Augmented assignement example\n",
    "\n",
    "# Variable Assignment\n",
    "x = 10\n",
    "y = 20\n",
    "print('x:',10,'\\n','y:',20)\n",
    "\n",
    "# Add variables\n",
    "total = x + y\n",
    "print('Total = x + y:',total)\n",
    "\n",
    "# Seperator\n",
    "print('\\n')\n",
    "\n",
    "# Augmented Assignment\n",
    "total += x\n",
    "print('total = total + x:')\n",
    "print('total += x:', total)"
   ]
  },
  {
   "cell_type": "code",
   "execution_count": 1,
   "metadata": {
    "tags": []
   },
   "outputs": [
    {
     "output_type": "stream",
     "name": "stdout",
     "text": "1 2 3 4 5 "
    }
   ],
   "source": [
    "# Iterate through a list\n",
    "for num in [1,2,3,4,5]:\n",
    "    # end keyword arguement allows me to print horizontally with chosen seperator\n",
    "    print(num, end = ' ')"
   ]
  },
  {
   "source": [
    "# Using sep=\n",
    "***\n",
    "### Only works by printing multiple items like below\n",
    "<code>\n",
    "print('A','B','C', sep = '*')\n",
    "</code> \n",
    "\n",
    "### Below verstion does not work\n",
    "<code>\n",
    "foo = ['A', 'B', 'C']\n",
    "</code>\n",
    "\n",
    "<code>\n",
    "print(foo, sep = '*')\n",
    "</code>"
   ],
   "cell_type": "markdown",
   "metadata": {}
  },
  {
   "source": [
    "# F Strings\n",
    "f'string {expression}'"
   ],
   "cell_type": "markdown",
   "metadata": {}
  },
  {
   "cell_type": "code",
   "execution_count": 10,
   "metadata": {
    "tags": []
   },
   "outputs": [
    {
     "output_type": "stream",
     "name": "stdout",
     "text": "My name is Moy\n"
    }
   ],
   "source": [
    "# Initilization Phase\n",
    "name = 'Moy'\n",
    "\n",
    "# Processing Phase\n",
    "pp = f'My name is {name}'\n",
    "\n",
    "# Termination Phase\n",
    "print(pp)\n"
   ]
  },
  {
   "source": [
    "# More formatting"
   ],
   "cell_type": "markdown",
   "metadata": {}
  },
  {
   "cell_type": "code",
   "execution_count": 8,
   "metadata": {
    "tags": []
   },
   "outputs": [
    {
     "output_type": "stream",
     "name": "stdout",
     "text": "My name is Moy                 \nMy name is         Moy         \nMy name is                  Moy\nMy name is .................Moy\n\n\nMy number is 13.000000\nMy number is 13.00\nMy number is 13\nMy number is 13.00%\nMy number is 13,000,000.00\n"
    }
   ],
   "source": [
    "name = 'Moy'\n",
    "\n",
    "# Left Alignment with 20 spaces added before and after { }\n",
    "print(f'My name is {name:<20}')\n",
    "\n",
    "# Center Alignment with 20 spaces added before and after { }\n",
    "print(f'My name is {name:^20}')\n",
    "\n",
    "# Right Alignment with 20 spaces added before and after { }\n",
    "print(f'My name is {name:>20}')\n",
    "\n",
    "# Right Alignment with 10 trailing characters added before and after { }\n",
    "print(f'My name is {name:.>20}')\n",
    "\n",
    "print('\\n')\n",
    "\n",
    "# Integer Format as float\n",
    "print(f'My number is {13:f}')\n",
    "\n",
    "# Integer Format as float 2 decimal places\n",
    "print(f'My number is {13:.2f}')\n",
    "\n",
    "# Integer Format as Digit\n",
    "print(f'My number is {13:d}')\n",
    "\n",
    "# Integer Format as float 2 decimal places in % format\n",
    "print(f'My number is {13/100:.2%}')\n",
    "\n",
    "# Integer Format as float with commas\n",
    "print(f'My number is {13*1000000:,.2f}')"
   ]
  },
  {
   "source": [
    "# 3.11 Program Development: Sentinal-Controlled Repetition"
   ],
   "cell_type": "markdown",
   "metadata": {}
  },
  {
   "cell_type": "code",
   "execution_count": 105,
   "metadata": {
    "tags": []
   },
   "outputs": [
    {
     "output_type": "stream",
     "name": "stdout",
     "text": "Total Number of Grades: 2\nAverage Grade: 75.0\n"
    }
   ],
   "source": [
    "'''Input Grades to get average Grade'''\n",
    "# Assign total value (To add up all grades)\n",
    "total = 0\n",
    "counter = 0\n",
    "\n",
    "# Force user to enter digit only within a range with while loop\n",
    "while True:\n",
    "    # Retrieve input from user\n",
    "    grade = input('Type in Grade From 0-100: ')\n",
    "\n",
    "    # Isdigit returns True or False on string value. If string is a digit -> True\n",
    "    if grade.isdigit():\n",
    "        # If value is within 0-100, break loop\n",
    "        if int(grade)>-1 and int(grade)<101:\n",
    "            # If gradr is a digit and within range, add to total and add 1 to counter\n",
    "            total += int(grade)\n",
    "            counter += 1\n",
    "            # Force user to enter (Y or N) to continue (Sentinal Control)\n",
    "            while True:\n",
    "                stop_input = input('Continue Input?: (Y or N)')\n",
    "                # Isalpha returns True or False if string is within the alphabet\n",
    "                if stop_input.isalpha():\n",
    "                    # Break loop if user inputs y or n\n",
    "                    # .lower ensures output is lowercase (User might type 'Y')\n",
    "                    # 'Y' != 'y'\n",
    "                    if stop_input.lower() == 'y':\n",
    "                        break\n",
    "                    elif stop_input.lower() == 'n':\n",
    "                        break\n",
    "            # Break loop if user is done inputting\n",
    "            if stop_input == 'n':\n",
    "                break\n",
    "# Print Number of Grades and Average\n",
    "print(f'Total Number of Grades: {counter}')\n",
    "print(f'Average Grade: {total/counter}')"
   ]
  },
  {
   "source": [
    "# The Decimal\n",
    "Use this module to process calculations accurately, avoiding rounding and estimations."
   ],
   "cell_type": "markdown",
   "metadata": {}
  },
  {
   "cell_type": "code",
   "execution_count": 169,
   "metadata": {
    "tags": []
   },
   "outputs": [
    {
     "output_type": "stream",
     "name": "stdout",
     "text": "Cash/Person: $ 142,857.1428571428571428571429\nCash/Person Rounded: $ 142,857.14\n\n\n11.25534109999999987650198818\nx + z will not work --> Error\n"
    }
   ],
   "source": [
    "# Imports Decimal Module\n",
    "import decimal\n",
    "# To avoid typing decimal.decimal continuously\n",
    "from decimal import Decimal\n",
    "\n",
    "# Set Variables\n",
    "cash = Decimal(1000000)\n",
    "houshold = 7\n",
    "# Print Cash per person\n",
    "print(f'Cash/Person: $ {cash/houshold:,}')\n",
    "print(f'Cash/Person Rounded: $ {round(cash/houshold,2):,}')\n",
    "\n",
    "# Seperator\n",
    "print('\\n')\n",
    "\n",
    "# Cannot do Decimal + Float. Only Decimal + Integers or Decimal + Decimal\n",
    "x = Decimal(5.13213)\n",
    "y = Decimal(6.1232111)\n",
    "z = 13.455\n",
    "print(x + y)\n",
    "print('x + z will not work --> Error')"
   ]
  },
  {
   "source": [
    "# Compound Interest\n",
    "Formula:\n",
    "a = p(1 + r)**n\n",
    "p = Original amount invested\n",
    "r = Annual interest rate\n",
    "n = Number of years\n",
    "a = Amount on deposit at the end of nth year\n"
   ],
   "cell_type": "markdown",
   "metadata": {}
  },
  {
   "cell_type": "code",
   "execution_count": 146,
   "metadata": {
    "tags": []
   },
   "outputs": [
    {
     "output_type": "stream",
     "name": "stdout",
     "text": "Year\tAmount\n1\t$ 105,000.00\n2\t$ 110,250.00\n3\t$ 115,762.50\n4\t$ 121,550.63\n5\t$ 127,628.16\n6\t$ 134,009.56\n7\t$ 140,710.04\n8\t$ 147,745.54\n9\t$ 155,132.82\n10\t$ 162,889.46\n"
    }
   ],
   "source": [
    "principal = Decimal(100000)\n",
    "rate = Decimal(.05)\n",
    "\n",
    "print('Year\\tAmount')\n",
    "for year in range(1,11):\n",
    "    amount = principal*(1+rate)**year\n",
    "    print(f'{year}\\t$ {amount:,.2f}')\n"
   ]
  },
  {
   "source": [
    "# Intro to Data Science: Measures of Central Tendency - Mean, Median, and Mode"
   ],
   "cell_type": "markdown",
   "metadata": {}
  },
  {
   "cell_type": "code",
   "execution_count": 161,
   "metadata": {
    "tags": []
   },
   "outputs": [
    {
     "output_type": "stream",
     "name": "stdout",
     "text": "Mean: 85.4\nMode: 88\nMedian: 88\nCopy of Sorted List: [67, 85, 88, 88, 99]\ngrade list: [85, 67, 88, 88, 99])\nList Sorted Permanently: [67, 85, 88, 88, 99]\n"
    }
   ],
   "source": [
    "# Import Statistics Module\n",
    "import statistics\n",
    "\n",
    "# List of Grades\n",
    "grades = [85, 67, 88, 88, 99]\n",
    "\n",
    "# Get Mean\n",
    "print(f'Mean: {statistics.mean(grades)}')\n",
    "\n",
    "# Get Mode\n",
    "print(f'Mode: {statistics.mode(grades)}')\n",
    "\n",
    "# Get Median\n",
    "print(f'Median: {statistics.median(grades)}')\n",
    "\n",
    "# A Copy of sorted list\n",
    "print(f'Copy of Sorted List: {sorted(grades)}')\n",
    "\n",
    "# Note - Grades list order not changes\n",
    "print(f'grade list: {grades})')\n",
    "\n",
    "# To Sort actual list. Use .sort()\n",
    "grades.sort()\n",
    "print(f'List Sorted permanently: {grades}')\n"
   ]
  },
  {
   "cell_type": "code",
   "execution_count": 168,
   "metadata": {
    "tags": []
   },
   "outputs": [
    {
     "output_type": "stream",
     "name": "stdout",
     "text": "List: [6, 5, 4, 3, 2, 1]\nList Sorted: [1, 2, 3, 4, 5, 6]\n"
    }
   ],
   "source": [
    "# OR Sort permanently by reassignment\n",
    "list_1 = [6,5,4,3,2,1]\n",
    "print(f'List: {list_1}')\n",
    "list_1 = sorted(list_1)\n",
    "print(f'List Sorted: {list_1}')"
   ]
  }
 ]
}