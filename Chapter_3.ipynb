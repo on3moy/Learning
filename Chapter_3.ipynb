{
 "metadata": {
  "language_info": {
   "codemirror_mode": {
    "name": "ipython",
    "version": 3
   },
   "file_extension": ".py",
   "mimetype": "text/x-python",
   "name": "python",
   "nbconvert_exporter": "python",
   "pygments_lexer": "ipython3",
   "version": "3.8.5-final"
  },
  "orig_nbformat": 2,
  "kernelspec": {
   "name": "python_defaultSpec_1600556062171",
   "display_name": "Python 3.8.5 64-bit"
  }
 },
 "nbformat": 4,
 "nbformat_minor": 2,
 "cells": [
  {
   "source": [
    "# Chapter 3\n",
    "<img src='https://ap-kids.com/wp-content/uploads/2018/12/pusheen-computer-animation.gif'/>"
   ],
   "cell_type": "markdown",
   "metadata": {}
  },
  {
   "cell_type": "code",
   "execution_count": 47,
   "metadata": {
    "tags": []
   },
   "outputs": [
    {
     "output_type": "stream",
     "name": "stdout",
     "text": "F  o  r  e  v  e  r  N  o  o  b  \n\nForeverNoob---ForeverNoob\nForeverNoob ForeverNoob---"
    }
   ],
   "source": [
    "# Print letters with space seperation\n",
    "# This only works with for loops\n",
    "word = 'ForeverNoob'\n",
    "for letter in word:\n",
    "    print(letter,end='  ')\n",
    "\n",
    "# Add space between prints\n",
    "print('\\n')\n",
    "\n",
    "# Add seperator between prints\n",
    "print(word,word,sep='---')\n",
    "\n",
    "# No seperation with end on normal prints\n",
    "print(word,word,end='---')"
   ]
  },
  {
   "source": [
    "# Range\n",
    "range does NOT include inputted number"
   ],
   "cell_type": "markdown",
   "metadata": {}
  },
  {
   "cell_type": "code",
   "execution_count": 70,
   "metadata": {
    "tags": []
   },
   "outputs": [
    {
     "output_type": "stream",
     "name": "stdout",
     "text": "range(10)\n0 1 2 3 4 5 6 7 8 9 \n\nrange(5,10)\n5 6 7 8 9"
    }
   ],
   "source": [
    "# Range starts at 0 if not specified\n",
    "print('range(10)')\n",
    "for num in range(10):\n",
    "    print(num, end=' ')\n",
    "\n",
    "# Seperator \\n\n",
    "print('\\n')\n",
    "\n",
    "# Specifies start off point\n",
    "print('range(5,10)')\n",
    "for num in range(5,10):\n",
    "    print(num,end=' ')"
   ]
  },
  {
   "source": [
    "# Augmented Assignments\n",
    "<img src='images/Augmented_assignments.png'/>"
   ],
   "cell_type": "markdown",
   "metadata": {}
  },
  {
   "cell_type": "code",
   "execution_count": 86,
   "metadata": {
    "tags": []
   },
   "outputs": [
    {
     "output_type": "stream",
     "name": "stdout",
     "text": "x: 10 \n y: 20\nTotal = x + y: 30\n\n\ntotal = total + x:\ntotal += x: 40\n"
    }
   ],
   "source": [
    "# Augmented assignement example\n",
    "\n",
    "# Variable Assignment\n",
    "x = 10\n",
    "y = 20\n",
    "print('x:',10,'\\n','y:',20)\n",
    "\n",
    "# Add variables\n",
    "total = x + y\n",
    "print('Total = x + y:',total)\n",
    "\n",
    "# Seperator\n",
    "print('\\n')\n",
    "\n",
    "# Augmented Assignment\n",
    "total += x\n",
    "print('total = total + x:')\n",
    "print('total += x:', total)"
   ]
  }
 ]
}